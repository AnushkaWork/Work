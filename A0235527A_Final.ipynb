{
 "cells": [
  {
   "cell_type": "markdown",
   "id": "44b4a2ca-3cb5-47f7-a9a1-237c0542b635",
   "metadata": {},
   "source": [
    "## **Case Brief Analysis**"
   ]
  },
  {
   "cell_type": "markdown",
   "id": "2abcd151-d2c6-45ed-b131-805070263436",
   "metadata": {},
   "source": [
    "#### This code will be used to analyse briefs submitted for appellate hearings in the United States. The analysis undertaken will determine whether in the given data set the type of words used, length of the brief, etc. have a bearing on the chances of winning on appeal."
   ]
  },
  {
   "cell_type": "code",
   "execution_count": 1,
   "id": "dad9a930-66d7-4388-9101-cf70a52504d9",
   "metadata": {},
   "outputs": [],
   "source": [
    "#Importing necessary classes\n",
    "\n",
    "#for the database\n",
    "import pandas as pd \n",
    "\n",
    "#to extract from the directory \n",
    "import csv \n",
    "import os \n",
    "from zipfile import ZipFile\n",
    "\n",
    "#for data visualisation\n",
    "import matplotlib.pyplot as plt\n",
    "import seaborn as sns \n",
    "\n",
    "#for natural language processing\n",
    "import nltk \n",
    "import re \n",
    "from nltk.corpus import stopwords\n",
    "from nltk.tokenize import word_tokenize\n",
    "from nltk.stem.porter import PorterStemmer\n",
    "from nltk.tokenize import word_tokenize\n",
    "from nltk.probability import FreqDist\n",
    "\n",
    "#setting the theme for the visual charts\n",
    "sns.set_theme(style=\"ticks\", color_codes=True)"
   ]
  },
  {
   "cell_type": "markdown",
   "id": "ad1ceb7b-30ac-41a5-a3d1-e504baa6ec5a",
   "metadata": {},
   "source": [
    "### Creating the Dataframe"
   ]
  },
  {
   "cell_type": "code",
   "execution_count": 2,
   "id": "c59c813a-07ca-4266-bdb4-a5c898181df5",
   "metadata": {},
   "outputs": [],
   "source": [
    "#storing the path where the compressed file is stored\n",
    "path = '/Users/anushka/desktop/NUS/Legal Data Science/Final/'"
   ]
  },
  {
   "cell_type": "markdown",
   "id": "55765f1a-c70e-4ec8-9ac5-ad79ac40b518",
   "metadata": {},
   "source": [
    "The data provided is in the form of a compressed file which contains text files of each brief, the briefs are labelled with 'a' and 'b' with the same number to represent opposite sides of the appeal. The following code will uncompress the directory and extract only the text files. "
   ]
  },
  {
   "cell_type": "code",
   "execution_count": 3,
   "id": "9d87cf0c-1a14-4f99-ac07-9d82655a3315",
   "metadata": {},
   "outputs": [
    {
     "name": "stdout",
     "output_type": "stream",
     "text": [
      "please check file extension\n",
      "please check file extension\n",
      "please check file extension\n",
      "please check file extension\n"
     ]
    }
   ],
   "source": [
    "#Uncompressing the directory which contains the case briefs using the zipfile class\n",
    "with ZipFile(path +'case_briefs.zip', 'r') as zip_object:\n",
    "   list_of_file_names = zip_object.namelist()\n",
    "   for file_name in list_of_file_names:\n",
    "        #Ensuring only the text files (.txt extension) are extracted from the compressed directory \n",
    "        if file_name.endswith('.txt'):\n",
    "           # Extracting a single file from the zip folder after confirming that its a text file, this is saved in the directory where this python script is stored\n",
    "           zip_object.extract(file_name, 'case_briefs')\n",
    "        else: \n",
    "            print(\"please check file extension\")"
   ]
  },
  {
   "cell_type": "markdown",
   "id": "316696c8-c0f3-4036-b21a-ccd8e5f67a21",
   "metadata": {},
   "source": [
    "The files for reading are made available by extracting only the .txt files from the compressed directory. If there is a misnamed file or a file with an incorrect extension it will not used for the testing, there will be an error message displayed if any file in the directory is not a .txt file but post that a manual verification will be required to ensure all the requisite files have been imported. \n",
    "In the present case, there are certain hidden files in the folder which don't have a .txt extension and have not been imported.\n"
   ]
  },
  {
   "cell_type": "markdown",
   "id": "1906d341-1934-4ec5-b768-4603cd158df5",
   "metadata": {},
   "source": [
    "Accessing the extracted files from the newly created folder and storing all the filenames in a list. This code does not check if the corresponding 'a' and 'b' briefs have been stored since the analysis doesn't particularly focus on the opposing briefs. "
   ]
  },
  {
   "cell_type": "code",
   "execution_count": 4,
   "id": "8fd649da-553e-4f4a-8fcb-206549b87dbf",
   "metadata": {},
   "outputs": [],
   "source": [
    "filenames = os.listdir(path + 'case_briefs/' + 'case_briefs')"
   ]
  },
  {
   "cell_type": "markdown",
   "id": "6cef64c2-e90a-476e-97c7-f6c33ce9fb8f",
   "metadata": {},
   "source": [
    "Each brief has metadata in first three lines which begins with a hash mark, this includes the PP (the party that submits the brief), WL (the winning or losing brief), the citation and the text of the brief. \n",
    "This data will be extracted and separated in the categories and stored in a dataframe. "
   ]
  },
  {
   "cell_type": "code",
   "execution_count": 5,
   "id": "77ffe7c0-a985-4cdb-b7d0-8ff56135d6a3",
   "metadata": {},
   "outputs": [],
   "source": [
    "#Function to pass each filename, open the case brief and return the WL, PP, Cite, and text and store in a dataframe \n",
    "def parse_brief(name):\n",
    "    #takes brief filename, opens file, parses content and returns WL, PP, Cite, and text\n",
    "    infile = open(path + 'case_briefs/' + 'case_briefs/' + name, 'r', encoding='utf-8')\n",
    "    text = ' '\n",
    "    for line in infile:\n",
    "        line = line.strip()\n",
    "        #find the PP line\n",
    "        if line.startswith('#PP'):\n",
    "            #get the number from the PP line\n",
    "            pp = line[-1]\n",
    "        #find the WL line\n",
    "        if line.startswith('#WL'):\n",
    "            #get the number from the WL line\n",
    "            wl = line[-1]\n",
    "        #find the citation line\n",
    "        if line.startswith('#') and not line.startswith('#PP') and not line.startswith('#WL'):\n",
    "            cite = line[1:].strip()\n",
    "        #get the rest of the text and add to text variable\n",
    "        if not line.startswith('#'):\n",
    "            text = text + ' ' + line\n",
    "    #store the data in the extracted categories \n",
    "    data = (name, wl, pp, cite, text)\n",
    "    return data"
   ]
  },
  {
   "cell_type": "markdown",
   "id": "72593264-5bfd-4885-b93a-c325dbfc3a35",
   "metadata": {},
   "source": [
    "Creating a csv file to store the data from the case briefs into different columns of Filename, PP, WL, Citation and the Text of brief."
   ]
  },
  {
   "cell_type": "code",
   "execution_count": 6,
   "id": "87e39607-3379-46df-a1ba-827a0cd8560c",
   "metadata": {},
   "outputs": [],
   "source": [
    "#creating the csv file and storing it in the same location as the case briefs\n",
    "outfile = open(path + 'briefs_dataframe.csv','w', encoding='utf-8')\n",
    "writer = csv.writer(outfile)\n",
    "#creating the headers for the csv file\n",
    "head = ['Filename','WL','PP','Citation','Text']\n",
    "writer.writerow(head)\n",
    "\n",
    "#writing the content of each brief to a row in the outfile\n",
    "for name in filenames:\n",
    "    #parse each file, extract PP, WL, and text\n",
    "    row = parse_brief(name)\n",
    "    #write the data to a row in our outfile\n",
    "    writer.writerow(row)\n",
    "\n",
    "outfile.close()"
   ]
  },
  {
   "cell_type": "markdown",
   "id": "793bf9ac-ef12-4d5e-a7af-5b2465fa5a72",
   "metadata": {},
   "source": [
    "Reading in the created csv file as a dataframe (df) to start the analysis "
   ]
  },
  {
   "cell_type": "code",
   "execution_count": 7,
   "id": "99706a20-527a-419f-bd59-2aca4301b595",
   "metadata": {},
   "outputs": [],
   "source": [
    "df = pd.read_csv(path +'briefs_dataframe.csv')\n",
    "#sorting the briefs by the filename\n",
    "df = df.sort_values('Filename')"
   ]
  },
  {
   "cell_type": "markdown",
   "id": "8361a2f7-f3bc-43bb-8243-0ba932323d2e",
   "metadata": {},
   "source": [
    "Checking if the data has been arranged in the desired manner by viewing the dataframe"
   ]
  },
  {
   "cell_type": "code",
   "execution_count": 8,
   "id": "f2be755b-70a2-4be3-94ae-0b07acb0cd69",
   "metadata": {},
   "outputs": [
    {
     "data": {
      "text/html": [
       "<div>\n",
       "<style scoped>\n",
       "    .dataframe tbody tr th:only-of-type {\n",
       "        vertical-align: middle;\n",
       "    }\n",
       "\n",
       "    .dataframe tbody tr th {\n",
       "        vertical-align: top;\n",
       "    }\n",
       "\n",
       "    .dataframe thead th {\n",
       "        text-align: right;\n",
       "    }\n",
       "</style>\n",
       "<table border=\"1\" class=\"dataframe\">\n",
       "  <thead>\n",
       "    <tr style=\"text-align: right;\">\n",
       "      <th></th>\n",
       "      <th>Filename</th>\n",
       "      <th>WL</th>\n",
       "      <th>PP</th>\n",
       "      <th>Citation</th>\n",
       "      <th>Text</th>\n",
       "    </tr>\n",
       "  </thead>\n",
       "  <tbody>\n",
       "    <tr>\n",
       "      <th>58</th>\n",
       "      <td>brief_10a.txt</td>\n",
       "      <td>0</td>\n",
       "      <td>0</td>\n",
       "      <td>702 F.3d 958</td>\n",
       "      <td>Petitioners' Brief on the Merits Clyde E. M...</td>\n",
       "    </tr>\n",
       "    <tr>\n",
       "      <th>61</th>\n",
       "      <td>brief_10b.txt</td>\n",
       "      <td>1</td>\n",
       "      <td>1</td>\n",
       "      <td>702 F.3d 958</td>\n",
       "      <td>Brief for Respondent Mara S. Georges Corpor...</td>\n",
       "    </tr>\n",
       "    <tr>\n",
       "      <th>53</th>\n",
       "      <td>brief_11a.txt</td>\n",
       "      <td>0</td>\n",
       "      <td>0</td>\n",
       "      <td>702 F.3d 411</td>\n",
       "      <td>Brief and Required Short Appendix of Petiti...</td>\n",
       "    </tr>\n",
       "    <tr>\n",
       "      <th>49</th>\n",
       "      <td>brief_11b.txt</td>\n",
       "      <td>1</td>\n",
       "      <td>1</td>\n",
       "      <td>702 F.3d 411</td>\n",
       "      <td>Brief and Appendix of Respondent-Appellee L...</td>\n",
       "    </tr>\n",
       "    <tr>\n",
       "      <th>41</th>\n",
       "      <td>brief_12a.txt</td>\n",
       "      <td>1</td>\n",
       "      <td>0</td>\n",
       "      <td>2013 WL 450560</td>\n",
       "      <td>Appellant's Opening Brief Guy D, Loranger, ...</td>\n",
       "    </tr>\n",
       "  </tbody>\n",
       "</table>\n",
       "</div>"
      ],
      "text/plain": [
       "         Filename  WL  PP        Citation  \\\n",
       "58  brief_10a.txt   0   0    702 F.3d 958   \n",
       "61  brief_10b.txt   1   1    702 F.3d 958   \n",
       "53  brief_11a.txt   0   0    702 F.3d 411   \n",
       "49  brief_11b.txt   1   1    702 F.3d 411   \n",
       "41  brief_12a.txt   1   0  2013 WL 450560   \n",
       "\n",
       "                                                 Text  \n",
       "58     Petitioners' Brief on the Merits Clyde E. M...  \n",
       "61     Brief for Respondent Mara S. Georges Corpor...  \n",
       "53     Brief and Required Short Appendix of Petiti...  \n",
       "49     Brief and Appendix of Respondent-Appellee L...  \n",
       "41     Appellant's Opening Brief Guy D, Loranger, ...  "
      ]
     },
     "execution_count": 8,
     "metadata": {},
     "output_type": "execute_result"
    }
   ],
   "source": [
    "df.head()"
   ]
  },
  {
   "cell_type": "code",
   "execution_count": 9,
   "id": "4b539cc0-a16f-4f60-90cd-3a88663649cd",
   "metadata": {},
   "outputs": [
    {
     "data": {
      "text/html": [
       "<div>\n",
       "<style scoped>\n",
       "    .dataframe tbody tr th:only-of-type {\n",
       "        vertical-align: middle;\n",
       "    }\n",
       "\n",
       "    .dataframe tbody tr th {\n",
       "        vertical-align: top;\n",
       "    }\n",
       "\n",
       "    .dataframe thead th {\n",
       "        text-align: right;\n",
       "    }\n",
       "</style>\n",
       "<table border=\"1\" class=\"dataframe\">\n",
       "  <thead>\n",
       "    <tr style=\"text-align: right;\">\n",
       "      <th></th>\n",
       "      <th>WL</th>\n",
       "      <th>PP</th>\n",
       "    </tr>\n",
       "  </thead>\n",
       "  <tbody>\n",
       "    <tr>\n",
       "      <th>count</th>\n",
       "      <td>80.000000</td>\n",
       "      <td>80.000000</td>\n",
       "    </tr>\n",
       "    <tr>\n",
       "      <th>mean</th>\n",
       "      <td>0.512500</td>\n",
       "      <td>0.512500</td>\n",
       "    </tr>\n",
       "    <tr>\n",
       "      <th>std</th>\n",
       "      <td>0.502997</td>\n",
       "      <td>0.502997</td>\n",
       "    </tr>\n",
       "    <tr>\n",
       "      <th>min</th>\n",
       "      <td>0.000000</td>\n",
       "      <td>0.000000</td>\n",
       "    </tr>\n",
       "    <tr>\n",
       "      <th>25%</th>\n",
       "      <td>0.000000</td>\n",
       "      <td>0.000000</td>\n",
       "    </tr>\n",
       "    <tr>\n",
       "      <th>50%</th>\n",
       "      <td>1.000000</td>\n",
       "      <td>1.000000</td>\n",
       "    </tr>\n",
       "    <tr>\n",
       "      <th>75%</th>\n",
       "      <td>1.000000</td>\n",
       "      <td>1.000000</td>\n",
       "    </tr>\n",
       "    <tr>\n",
       "      <th>max</th>\n",
       "      <td>1.000000</td>\n",
       "      <td>1.000000</td>\n",
       "    </tr>\n",
       "  </tbody>\n",
       "</table>\n",
       "</div>"
      ],
      "text/plain": [
       "              WL         PP\n",
       "count  80.000000  80.000000\n",
       "mean    0.512500   0.512500\n",
       "std     0.502997   0.502997\n",
       "min     0.000000   0.000000\n",
       "25%     0.000000   0.000000\n",
       "50%     1.000000   1.000000\n",
       "75%     1.000000   1.000000\n",
       "max     1.000000   1.000000"
      ]
     },
     "execution_count": 9,
     "metadata": {},
     "output_type": "execute_result"
    }
   ],
   "source": [
    "df.describe()"
   ]
  },
  {
   "cell_type": "markdown",
   "id": "b94ad364-204a-48e9-b24f-f8d8c47b24e0",
   "metadata": {},
   "source": [
    "### Cleaning the text in the Dataframe"
   ]
  },
  {
   "cell_type": "markdown",
   "id": "f3a731d1-194a-4942-bb79-8f835ef17282",
   "metadata": {},
   "source": [
    "For this sample analysis we have a small data-set of 80 briefs, we will now clean the contents of the text in the briefs to analyse their impact on winning or losing. To start we will remove all non-alphabetic characters and 3 letter words and save the cleaned text in a new column in the dataframe. For ease of analysis, all the 3 letters words are been removed, there are alternate ways in which only the commonly used words like 'the' 'is' 'a' could be removed but they havent been used . "
   ]
  },
  {
   "cell_type": "code",
   "execution_count": 10,
   "id": "c8ac7dac-dc6e-4d5c-9f45-5a2cfee28ee2",
   "metadata": {},
   "outputs": [],
   "source": [
    "#function to remove non-aplhabetic characters, words that have zero characters and return the cleaned text as a string\n",
    "def clean_text(text):\n",
    "    #using re.sub to retain only aphabets, '-' and the apostrophe in the text of the brief\n",
    "    alpha = re.compile('[^a-zA-Z -'']')\n",
    "    #replacing the chracters not in alpha\n",
    "    text = alpha.sub('',text)\n",
    "    #removing words that are shorter than 0 characters in length \n",
    "    text = text.split()\n",
    "    text = [(word) for word in text if len(word) > 3]\n",
    "    #combining each word to create one string in the original format of the text of the brief \n",
    "    text = ' '.join(text)  \n",
    "    #returning the cleaned text \n",
    "    return text  "
   ]
  },
  {
   "cell_type": "markdown",
   "id": "3a785487-44ee-4406-b3e4-d2bc19268c67",
   "metadata": {},
   "source": [
    "Creating a new column to store the cleaned text by calling the clean_text function created above by using the apply function"
   ]
  },
  {
   "cell_type": "code",
   "execution_count": 11,
   "id": "f1a0cd92-13fd-4683-80d6-25ec07b0318d",
   "metadata": {},
   "outputs": [],
   "source": [
    "df['cleaned_text'] = df['Text'].apply(clean_text)"
   ]
  },
  {
   "cell_type": "markdown",
   "id": "66a2dc92-07da-44b1-93da-71cfeae2e689",
   "metadata": {},
   "source": [
    "Checking if the text has been extracted/cleaned in the desired manner by viewing the first 1000 characters of the original text and the cleaned text of the first brief"
   ]
  },
  {
   "cell_type": "code",
   "execution_count": 12,
   "id": "5e213b89-fd46-479c-b9f1-0b8c8a593b4a",
   "metadata": {},
   "outputs": [
    {
     "name": "stdout",
     "output_type": "stream",
     "text": [
      "The original text:    Brief of Plaintiff-Appellant Andrew D. Epstein (Bar No. 51493), Barker, Epstein & Loscocco, Keith E. Toms (Bar No. 1151302), Attorneys for Plaintiff-Appellant, 10 Winthrop Square, Boston, Massachusetts 02110, (617) 482-4900, Drew@Photolaw.net, ktoms @massiplaw.com. *i TABLE OF CONTENTS Table of Authorities iii Request for Oral Argument v Subject Matter and Appellate Jurisdiction 1 Issued Presented 1 Statement of the Case 2 Statement of Facts 3 Summary of Argument 8 Argument 9 A. Events Beyond Harney's Control Transformed an Innocent Human-Interest Portrait into a Wanted Poster; The Events Did Not Transform a Copyrighted Work into a Non-Copyrighted Work. 9 B. Standard of Review for Grant of Summary Judgment is De Novo Drawing All Reasonable Inferences in Favor of the Non-Moving Party. 11 *ii C. Sony Has Conceded the Validity of Harney's Copyright and Factual Copying; Two of the Three Elements Necessary to Prove Infringement. 11 D. The Works Are Substantially Similar because Sony's Ph\n",
      "\n",
      "The cleaned text: Brief Plaintiff-Appellant Andrew Epstein Barker Epstein Loscocco Keith Toms Attorneys Plaintiff-Appellant Winthrop Square Boston Massachusetts DrewPhotolawnet ktoms massiplawcom TABLE CONTENTS Table Authorities Request Oral Argument Subject Matter Appellate Jurisdiction Issued Presented Statement Case Statement Facts Summary Argument Argument Events Beyond Harneys Control Transformed Innocent Human-Interest Portrait into Wanted Poster Events Transform Copyrighted Work into Non-Copyrighted Work Standard Review Grant Summary Judgment Novo Drawing Reasonable Inferences Favor Non-Moving Party Sony Conceded Validity Harneys Copyright Factual Copying Three Elements Necessary Prove Infringement Works Substantially Similar because Sonys Photograph Copied Expressive Heart Harney Photograph Harney Photograph Original Work Fully Protected Copyright District Court Erroneously Over-Dissected Harney Photograph Conclusion Certificate Compliance Certificate Service Addenda Addendum Plaintiffs Harney P\n"
     ]
    }
   ],
   "source": [
    "#printing the original brief\n",
    "print(\"The original text: \" + df['Text'][0][:1000])\n",
    "#printing the cleaned text of the original brief\n",
    "print(\"\\nThe cleaned text: \" + df['cleaned_text'][0][:1000])"
   ]
  },
  {
   "cell_type": "markdown",
   "id": "765a1cf4-8fcf-4acd-83f2-cb21fdff2d59",
   "metadata": {},
   "source": [
    "The data has been cleaned successfully, we will now calculate the number of words, the number of sentences and the average length of the sentence in each brief"
   ]
  },
  {
   "cell_type": "markdown",
   "id": "9ebb78b8-d7e5-4be2-a028-3ec71da2b741",
   "metadata": {},
   "source": [
    "### Computing the length of the Briefs"
   ]
  },
  {
   "cell_type": "markdown",
   "id": "7696fe37-93c2-4ce5-8f7e-7beb412846bd",
   "metadata": {},
   "source": [
    "Creating a new column to store the word count of the cleaned text by using a list comprehension "
   ]
  },
  {
   "cell_type": "code",
   "execution_count": 13,
   "id": "11cb13b2-b30c-413d-b275-bb5ec758623a",
   "metadata": {},
   "outputs": [],
   "source": [
    "df['word_count'] = [len(word.split()) for word in df['cleaned_text']]"
   ]
  },
  {
   "cell_type": "markdown",
   "id": "183c6b78-b422-4ef4-a7a4-1aab91a873d7",
   "metadata": {},
   "source": [
    "Checking if the word count column has been correctly stored"
   ]
  },
  {
   "cell_type": "code",
   "execution_count": 14,
   "id": "bfaf4a24-3044-4fcc-bab4-66ac242d617d",
   "metadata": {},
   "outputs": [
    {
     "data": {
      "text/html": [
       "<div>\n",
       "<style scoped>\n",
       "    .dataframe tbody tr th:only-of-type {\n",
       "        vertical-align: middle;\n",
       "    }\n",
       "\n",
       "    .dataframe tbody tr th {\n",
       "        vertical-align: top;\n",
       "    }\n",
       "\n",
       "    .dataframe thead th {\n",
       "        text-align: right;\n",
       "    }\n",
       "</style>\n",
       "<table border=\"1\" class=\"dataframe\">\n",
       "  <thead>\n",
       "    <tr style=\"text-align: right;\">\n",
       "      <th></th>\n",
       "      <th>Filename</th>\n",
       "      <th>WL</th>\n",
       "      <th>PP</th>\n",
       "      <th>Citation</th>\n",
       "      <th>Text</th>\n",
       "      <th>cleaned_text</th>\n",
       "      <th>word_count</th>\n",
       "    </tr>\n",
       "  </thead>\n",
       "  <tbody>\n",
       "    <tr>\n",
       "      <th>58</th>\n",
       "      <td>brief_10a.txt</td>\n",
       "      <td>0</td>\n",
       "      <td>0</td>\n",
       "      <td>702 F.3d 958</td>\n",
       "      <td>Petitioners' Brief on the Merits Clyde E. M...</td>\n",
       "      <td>Petitioners Brief Merits Clyde Murphy Chicago ...</td>\n",
       "      <td>8097</td>\n",
       "    </tr>\n",
       "    <tr>\n",
       "      <th>61</th>\n",
       "      <td>brief_10b.txt</td>\n",
       "      <td>1</td>\n",
       "      <td>1</td>\n",
       "      <td>702 F.3d 958</td>\n",
       "      <td>Brief for Respondent Mara S. Georges Corpor...</td>\n",
       "      <td>Brief Respondent Mara Georges Corporation Coun...</td>\n",
       "      <td>8446</td>\n",
       "    </tr>\n",
       "    <tr>\n",
       "      <th>53</th>\n",
       "      <td>brief_11a.txt</td>\n",
       "      <td>0</td>\n",
       "      <td>0</td>\n",
       "      <td>702 F.3d 411</td>\n",
       "      <td>Brief and Required Short Appendix of Petiti...</td>\n",
       "      <td>Brief Required Short Appendix Petitioner-Appel...</td>\n",
       "      <td>5679</td>\n",
       "    </tr>\n",
       "    <tr>\n",
       "      <th>49</th>\n",
       "      <td>brief_11b.txt</td>\n",
       "      <td>1</td>\n",
       "      <td>1</td>\n",
       "      <td>702 F.3d 411</td>\n",
       "      <td>Brief and Appendix of Respondent-Appellee L...</td>\n",
       "      <td>Brief Appendix Respondent-Appellee Lisa Madiga...</td>\n",
       "      <td>6630</td>\n",
       "    </tr>\n",
       "    <tr>\n",
       "      <th>41</th>\n",
       "      <td>brief_12a.txt</td>\n",
       "      <td>1</td>\n",
       "      <td>0</td>\n",
       "      <td>2013 WL 450560</td>\n",
       "      <td>Appellant's Opening Brief Guy D, Loranger, ...</td>\n",
       "      <td>Appellants Opening Brief Loranger Federal Nich...</td>\n",
       "      <td>2341</td>\n",
       "    </tr>\n",
       "  </tbody>\n",
       "</table>\n",
       "</div>"
      ],
      "text/plain": [
       "         Filename  WL  PP        Citation  \\\n",
       "58  brief_10a.txt   0   0    702 F.3d 958   \n",
       "61  brief_10b.txt   1   1    702 F.3d 958   \n",
       "53  brief_11a.txt   0   0    702 F.3d 411   \n",
       "49  brief_11b.txt   1   1    702 F.3d 411   \n",
       "41  brief_12a.txt   1   0  2013 WL 450560   \n",
       "\n",
       "                                                 Text  \\\n",
       "58     Petitioners' Brief on the Merits Clyde E. M...   \n",
       "61     Brief for Respondent Mara S. Georges Corpor...   \n",
       "53     Brief and Required Short Appendix of Petiti...   \n",
       "49     Brief and Appendix of Respondent-Appellee L...   \n",
       "41     Appellant's Opening Brief Guy D, Loranger, ...   \n",
       "\n",
       "                                         cleaned_text  word_count  \n",
       "58  Petitioners Brief Merits Clyde Murphy Chicago ...        8097  \n",
       "61  Brief Respondent Mara Georges Corporation Coun...        8446  \n",
       "53  Brief Required Short Appendix Petitioner-Appel...        5679  \n",
       "49  Brief Appendix Respondent-Appellee Lisa Madiga...        6630  \n",
       "41  Appellants Opening Brief Loranger Federal Nich...        2341  "
      ]
     },
     "execution_count": 14,
     "metadata": {},
     "output_type": "execute_result"
    }
   ],
   "source": [
    "df.head()"
   ]
  },
  {
   "cell_type": "code",
   "execution_count": 15,
   "id": "433fc6a7-02eb-43b2-aee4-7e895dd0fe5f",
   "metadata": {},
   "outputs": [
    {
     "name": "stdout",
     "output_type": "stream",
     "text": [
      "[14828, 15609, 10134, 11612, 4283]\n"
     ]
    }
   ],
   "source": [
    "#Testing to ensure the clean_text function has worked appropriately, by checking the word count of the non-cleaned text\n",
    "print([len(word.split()) for word in df['Text'][:5]])"
   ]
  },
  {
   "cell_type": "markdown",
   "id": "8fa15ea2-e3d9-4335-ab1a-2769a21dae50",
   "metadata": {},
   "source": [
    "As is evident the word count has been reduced by almost half for each brief. Now, calculating the number of sentences"
   ]
  },
  {
   "cell_type": "code",
   "execution_count": 16,
   "id": "d8a58499-776e-483d-a403-631a3974dc7f",
   "metadata": {},
   "outputs": [],
   "source": [
    "#function to find the number of of sentences in each opinion \n",
    "def count_sentences(text):\n",
    "    #using the sent_tokenize function which uses all punctuations to sepearte the setences\n",
    "    return len(nltk.sent_tokenize(text))"
   ]
  },
  {
   "cell_type": "markdown",
   "id": "4e0bebbe-cf46-4e53-b5d6-5224ec35bc4d",
   "metadata": {},
   "source": [
    "Creating a new column that contains the number of sentences by calling the count_sentences function, the Text column is used as it contains the punctuations "
   ]
  },
  {
   "cell_type": "code",
   "execution_count": 17,
   "id": "8201b5fd-54f8-410a-b212-6e10655bb195",
   "metadata": {},
   "outputs": [],
   "source": [
    "df['sentence_count'] = df['Text'].apply(count_sentences)"
   ]
  },
  {
   "cell_type": "markdown",
   "id": "2b4ebce0-c655-49f3-a300-8010c1909890",
   "metadata": {},
   "source": [
    "Checking if the sentence count column has been captured correctly"
   ]
  },
  {
   "cell_type": "code",
   "execution_count": 18,
   "id": "c4234ee2-099c-4921-9bf6-3d34935fb4bc",
   "metadata": {},
   "outputs": [
    {
     "data": {
      "text/html": [
       "<div>\n",
       "<style scoped>\n",
       "    .dataframe tbody tr th:only-of-type {\n",
       "        vertical-align: middle;\n",
       "    }\n",
       "\n",
       "    .dataframe tbody tr th {\n",
       "        vertical-align: top;\n",
       "    }\n",
       "\n",
       "    .dataframe thead th {\n",
       "        text-align: right;\n",
       "    }\n",
       "</style>\n",
       "<table border=\"1\" class=\"dataframe\">\n",
       "  <thead>\n",
       "    <tr style=\"text-align: right;\">\n",
       "      <th></th>\n",
       "      <th>Filename</th>\n",
       "      <th>WL</th>\n",
       "      <th>PP</th>\n",
       "      <th>Citation</th>\n",
       "      <th>Text</th>\n",
       "      <th>cleaned_text</th>\n",
       "      <th>word_count</th>\n",
       "      <th>sentence_count</th>\n",
       "    </tr>\n",
       "  </thead>\n",
       "  <tbody>\n",
       "    <tr>\n",
       "      <th>58</th>\n",
       "      <td>brief_10a.txt</td>\n",
       "      <td>0</td>\n",
       "      <td>0</td>\n",
       "      <td>702 F.3d 958</td>\n",
       "      <td>Petitioners' Brief on the Merits Clyde E. M...</td>\n",
       "      <td>Petitioners Brief Merits Clyde Murphy Chicago ...</td>\n",
       "      <td>8097</td>\n",
       "      <td>801</td>\n",
       "    </tr>\n",
       "    <tr>\n",
       "      <th>61</th>\n",
       "      <td>brief_10b.txt</td>\n",
       "      <td>1</td>\n",
       "      <td>1</td>\n",
       "      <td>702 F.3d 958</td>\n",
       "      <td>Brief for Respondent Mara S. Georges Corpor...</td>\n",
       "      <td>Brief Respondent Mara Georges Corporation Coun...</td>\n",
       "      <td>8446</td>\n",
       "      <td>1294</td>\n",
       "    </tr>\n",
       "    <tr>\n",
       "      <th>53</th>\n",
       "      <td>brief_11a.txt</td>\n",
       "      <td>0</td>\n",
       "      <td>0</td>\n",
       "      <td>702 F.3d 411</td>\n",
       "      <td>Brief and Required Short Appendix of Petiti...</td>\n",
       "      <td>Brief Required Short Appendix Petitioner-Appel...</td>\n",
       "      <td>5679</td>\n",
       "      <td>577</td>\n",
       "    </tr>\n",
       "    <tr>\n",
       "      <th>49</th>\n",
       "      <td>brief_11b.txt</td>\n",
       "      <td>1</td>\n",
       "      <td>1</td>\n",
       "      <td>702 F.3d 411</td>\n",
       "      <td>Brief and Appendix of Respondent-Appellee L...</td>\n",
       "      <td>Brief Appendix Respondent-Appellee Lisa Madiga...</td>\n",
       "      <td>6630</td>\n",
       "      <td>696</td>\n",
       "    </tr>\n",
       "    <tr>\n",
       "      <th>41</th>\n",
       "      <td>brief_12a.txt</td>\n",
       "      <td>1</td>\n",
       "      <td>0</td>\n",
       "      <td>2013 WL 450560</td>\n",
       "      <td>Appellant's Opening Brief Guy D, Loranger, ...</td>\n",
       "      <td>Appellants Opening Brief Loranger Federal Nich...</td>\n",
       "      <td>2341</td>\n",
       "      <td>291</td>\n",
       "    </tr>\n",
       "  </tbody>\n",
       "</table>\n",
       "</div>"
      ],
      "text/plain": [
       "         Filename  WL  PP        Citation  \\\n",
       "58  brief_10a.txt   0   0    702 F.3d 958   \n",
       "61  brief_10b.txt   1   1    702 F.3d 958   \n",
       "53  brief_11a.txt   0   0    702 F.3d 411   \n",
       "49  brief_11b.txt   1   1    702 F.3d 411   \n",
       "41  brief_12a.txt   1   0  2013 WL 450560   \n",
       "\n",
       "                                                 Text  \\\n",
       "58     Petitioners' Brief on the Merits Clyde E. M...   \n",
       "61     Brief for Respondent Mara S. Georges Corpor...   \n",
       "53     Brief and Required Short Appendix of Petiti...   \n",
       "49     Brief and Appendix of Respondent-Appellee L...   \n",
       "41     Appellant's Opening Brief Guy D, Loranger, ...   \n",
       "\n",
       "                                         cleaned_text  word_count  \\\n",
       "58  Petitioners Brief Merits Clyde Murphy Chicago ...        8097   \n",
       "61  Brief Respondent Mara Georges Corporation Coun...        8446   \n",
       "53  Brief Required Short Appendix Petitioner-Appel...        5679   \n",
       "49  Brief Appendix Respondent-Appellee Lisa Madiga...        6630   \n",
       "41  Appellants Opening Brief Loranger Federal Nich...        2341   \n",
       "\n",
       "    sentence_count  \n",
       "58             801  \n",
       "61            1294  \n",
       "53             577  \n",
       "49             696  \n",
       "41             291  "
      ]
     },
     "execution_count": 18,
     "metadata": {},
     "output_type": "execute_result"
    }
   ],
   "source": [
    "df.head()"
   ]
  },
  {
   "cell_type": "markdown",
   "id": "749e736d-1718-4561-872d-a208cde4e699",
   "metadata": {},
   "source": [
    "Creating a new column to store the average length of the sentences by calculating the word count of the original text using the list comprehension as done earlier and dividing it by the sentence count column"
   ]
  },
  {
   "cell_type": "code",
   "execution_count": 19,
   "id": "7e6e9d15-d273-46fc-8635-b2931d88c883",
   "metadata": {},
   "outputs": [],
   "source": [
    "df['avg_sent_length'] = [len(word.split()) for word in df['Text']]/df['sentence_count']"
   ]
  },
  {
   "cell_type": "markdown",
   "id": "8961daa4-b829-466b-9046-6f220a2b932f",
   "metadata": {},
   "source": [
    "Checking if the average sentence length has been captured correctly"
   ]
  },
  {
   "cell_type": "code",
   "execution_count": 20,
   "id": "4bd1a3f7-2fae-403d-8c2d-09f387b4c9fa",
   "metadata": {},
   "outputs": [
    {
     "data": {
      "text/html": [
       "<div>\n",
       "<style scoped>\n",
       "    .dataframe tbody tr th:only-of-type {\n",
       "        vertical-align: middle;\n",
       "    }\n",
       "\n",
       "    .dataframe tbody tr th {\n",
       "        vertical-align: top;\n",
       "    }\n",
       "\n",
       "    .dataframe thead th {\n",
       "        text-align: right;\n",
       "    }\n",
       "</style>\n",
       "<table border=\"1\" class=\"dataframe\">\n",
       "  <thead>\n",
       "    <tr style=\"text-align: right;\">\n",
       "      <th></th>\n",
       "      <th>Filename</th>\n",
       "      <th>WL</th>\n",
       "      <th>PP</th>\n",
       "      <th>Citation</th>\n",
       "      <th>Text</th>\n",
       "      <th>cleaned_text</th>\n",
       "      <th>word_count</th>\n",
       "      <th>sentence_count</th>\n",
       "      <th>avg_sent_length</th>\n",
       "    </tr>\n",
       "  </thead>\n",
       "  <tbody>\n",
       "    <tr>\n",
       "      <th>58</th>\n",
       "      <td>brief_10a.txt</td>\n",
       "      <td>0</td>\n",
       "      <td>0</td>\n",
       "      <td>702 F.3d 958</td>\n",
       "      <td>Petitioners' Brief on the Merits Clyde E. M...</td>\n",
       "      <td>Petitioners Brief Merits Clyde Murphy Chicago ...</td>\n",
       "      <td>8097</td>\n",
       "      <td>801</td>\n",
       "      <td>18.511860</td>\n",
       "    </tr>\n",
       "    <tr>\n",
       "      <th>61</th>\n",
       "      <td>brief_10b.txt</td>\n",
       "      <td>1</td>\n",
       "      <td>1</td>\n",
       "      <td>702 F.3d 958</td>\n",
       "      <td>Brief for Respondent Mara S. Georges Corpor...</td>\n",
       "      <td>Brief Respondent Mara Georges Corporation Coun...</td>\n",
       "      <td>8446</td>\n",
       "      <td>1294</td>\n",
       "      <td>12.062597</td>\n",
       "    </tr>\n",
       "    <tr>\n",
       "      <th>53</th>\n",
       "      <td>brief_11a.txt</td>\n",
       "      <td>0</td>\n",
       "      <td>0</td>\n",
       "      <td>702 F.3d 411</td>\n",
       "      <td>Brief and Required Short Appendix of Petiti...</td>\n",
       "      <td>Brief Required Short Appendix Petitioner-Appel...</td>\n",
       "      <td>5679</td>\n",
       "      <td>577</td>\n",
       "      <td>17.563258</td>\n",
       "    </tr>\n",
       "    <tr>\n",
       "      <th>49</th>\n",
       "      <td>brief_11b.txt</td>\n",
       "      <td>1</td>\n",
       "      <td>1</td>\n",
       "      <td>702 F.3d 411</td>\n",
       "      <td>Brief and Appendix of Respondent-Appellee L...</td>\n",
       "      <td>Brief Appendix Respondent-Appellee Lisa Madiga...</td>\n",
       "      <td>6630</td>\n",
       "      <td>696</td>\n",
       "      <td>16.683908</td>\n",
       "    </tr>\n",
       "    <tr>\n",
       "      <th>41</th>\n",
       "      <td>brief_12a.txt</td>\n",
       "      <td>1</td>\n",
       "      <td>0</td>\n",
       "      <td>2013 WL 450560</td>\n",
       "      <td>Appellant's Opening Brief Guy D, Loranger, ...</td>\n",
       "      <td>Appellants Opening Brief Loranger Federal Nich...</td>\n",
       "      <td>2341</td>\n",
       "      <td>291</td>\n",
       "      <td>14.718213</td>\n",
       "    </tr>\n",
       "  </tbody>\n",
       "</table>\n",
       "</div>"
      ],
      "text/plain": [
       "         Filename  WL  PP        Citation  \\\n",
       "58  brief_10a.txt   0   0    702 F.3d 958   \n",
       "61  brief_10b.txt   1   1    702 F.3d 958   \n",
       "53  brief_11a.txt   0   0    702 F.3d 411   \n",
       "49  brief_11b.txt   1   1    702 F.3d 411   \n",
       "41  brief_12a.txt   1   0  2013 WL 450560   \n",
       "\n",
       "                                                 Text  \\\n",
       "58     Petitioners' Brief on the Merits Clyde E. M...   \n",
       "61     Brief for Respondent Mara S. Georges Corpor...   \n",
       "53     Brief and Required Short Appendix of Petiti...   \n",
       "49     Brief and Appendix of Respondent-Appellee L...   \n",
       "41     Appellant's Opening Brief Guy D, Loranger, ...   \n",
       "\n",
       "                                         cleaned_text  word_count  \\\n",
       "58  Petitioners Brief Merits Clyde Murphy Chicago ...        8097   \n",
       "61  Brief Respondent Mara Georges Corporation Coun...        8446   \n",
       "53  Brief Required Short Appendix Petitioner-Appel...        5679   \n",
       "49  Brief Appendix Respondent-Appellee Lisa Madiga...        6630   \n",
       "41  Appellants Opening Brief Loranger Federal Nich...        2341   \n",
       "\n",
       "    sentence_count  avg_sent_length  \n",
       "58             801        18.511860  \n",
       "61            1294        12.062597  \n",
       "53             577        17.563258  \n",
       "49             696        16.683908  \n",
       "41             291        14.718213  "
      ]
     },
     "execution_count": 20,
     "metadata": {},
     "output_type": "execute_result"
    }
   ],
   "source": [
    "df.head()"
   ]
  },
  {
   "cell_type": "markdown",
   "id": "776d2225-e139-4462-8d9c-7675d1afb672",
   "metadata": {},
   "source": [
    "After the data for to determine the length of the briefs has been stored, the next part will deal with the vocabulary used in the briefs."
   ]
  },
  {
   "cell_type": "markdown",
   "id": "11219eb0-be12-4d17-b22b-467f384ed55c",
   "metadata": {},
   "source": [
    "### Conducting Extractions Based On Vocabulary "
   ]
  },
  {
   "cell_type": "markdown",
   "id": "fadc837a-8edd-409c-8148-aa589058c94c",
   "metadata": {},
   "source": [
    "For the vocabulary-centric analysis, first all words will be stemmed, then the commonly used English words will be removed from dataset. Also, the commonly used words in a case brief will be removed.\n",
    "Stemming which reduces the word to its root word is only one way of conducting the analysis, there are other methods like lamenting which can also be used. "
   ]
  },
  {
   "cell_type": "code",
   "execution_count": 21,
   "id": "0677b0c6-ba69-4b8a-acb0-4c61d336ce31",
   "metadata": {},
   "outputs": [],
   "source": [
    "#function to stem words using  nltk, it takes an individual word for analysis\n",
    "def stem_word(text):\n",
    "    #initialising stem from stem.porter\n",
    "    stem = PorterStemmer()\n",
    "    #using th stem function on the text\n",
    "    text = stem.stem(text)\n",
    "    #returning the stemmed word\n",
    "    return text"
   ]
  },
  {
   "cell_type": "code",
   "execution_count": 22,
   "id": "b6ddf3bc-4203-4ae5-aba8-946a8c5e1d2a",
   "metadata": {},
   "outputs": [],
   "source": [
    "#function to remove stopwords and other commonly used legal words, the function takes one variable which be the text of each brief in string format\n",
    "def filter_word(text):\n",
    "    text = text.lower()\n",
    "    #storing the english stopwords using the stopwords library from nltk.corpus  \n",
    "    stop_words = set(stopwords.words('english'))\n",
    "    #storing the commonly used words in legal briefs \n",
    "    legal_words = [\"brief\", \"plaintiff\", \"defendant\", \"respondent\", \"appel\", \"plaintiff-appel\", \"case\", \"court\", \"judgment\", \"statement\", \"argument\"]\n",
    "    #tokenizing the words in the the brief, this stores the words in a list format\n",
    "    word_tokens = word_tokenize(text)\n",
    "    #creating an empty list to store the stemmed and filtered words \n",
    "    stemmed_sentence = []\n",
    "    filtered_sentence = []\n",
    "    for w in word_tokens:\n",
    "        #passes each word to the stem_word function which returns its stemmed word and appends it to the list\n",
    "        stemmed_sentence.append(stem_word(w))\n",
    "    #using a for loop to go over each word in the tokenized stem-word list, compare it with the stop words and the legal words and create a new \n",
    "    for w in stemmed_sentence:\n",
    "        #removing stop words in briefs\n",
    "        if w in stop_words:\n",
    "            None\n",
    "         #removing comonly used words in briefs\n",
    "        elif w in legal_words:\n",
    "            None\n",
    "        else:\n",
    "            filtered_sentence.append(w)\n",
    "    #returning the list of all the words\n",
    "    return filtered_sentence\n"
   ]
  },
  {
   "cell_type": "markdown",
   "id": "6b884a19-4723-485c-98b7-a93554b18d76",
   "metadata": {},
   "source": [
    "Creating the vocabulary column to store the filtered words in the form of a list by calling the filter_word function "
   ]
  },
  {
   "cell_type": "code",
   "execution_count": 23,
   "id": "6f976883-185f-4add-9673-c3a689bdccef",
   "metadata": {},
   "outputs": [],
   "source": [
    "df['vocabulary'] = df['cleaned_text'].apply(filter_word)"
   ]
  },
  {
   "cell_type": "markdown",
   "id": "894ca8dc-cdae-4d5f-bc47-df57f735f02b",
   "metadata": {},
   "source": [
    "Checking if the text has been extracted/cleaned in the desired manner by viewing the first 1000 characters of the original text and the cleaned text of the first brief"
   ]
  },
  {
   "cell_type": "code",
   "execution_count": 24,
   "id": "2cd15aca-4591-4dac-a55b-0248c3524446",
   "metadata": {},
   "outputs": [
    {
     "name": "stdout",
     "output_type": "stream",
     "text": [
      "The original text: Brief Plaintiff-Appellant Andrew Epstein Barker Epstein Loscocco Keith Toms Attorneys Plaintiff-Appellant Winthrop Square Boston Massachusetts DrewPhotolawnet ktoms massiplawcom TABLE CONTENTS Table Authorities Request Oral Argument Subject Matter Appellate Jurisdiction Issued Presented Statement Case Statement Facts Summary Argument Argument Events Beyond Harneys Control Transformed Innocent Human-Interest Portrait into Wanted Poster Events Transform Copyrighted Work into Non-Copyrighted Work Standard Review Grant Summary Judgment Novo Drawing Reasonable Inferences Favor Non-Moving Party Sony Conceded Validity Harneys Copyright Factual Copying Three Elements Necessary Prove Infringement Works Substantially Similar because Sonys Photograph Copied Expressive Heart Harney Photograph Harney Photograph Original Work Fully Protected Copyright District Court Erroneously Over-Dissected Harney Photograph Conclusion Certificate Compliance Certificate Service Addenda Addendum Plaintiffs Harney P\n",
      "\n",
      "The filtered text: \n",
      "['andrew', 'epstein', 'barker', 'epstein', 'loscocco', 'keith', 'tom', 'attorney', 'winthrop', 'squar', 'boston', 'massachusett', 'drewphotolawnet', 'ktom', 'massiplawcom', 'tabl', 'content', 'tabl', 'author', 'request', 'oral', 'subject', 'matter', 'jurisdict', 'issu', 'present', 'fact', 'summari', 'event', 'beyond', 'harney', 'control', 'transform', 'innoc', 'human-interest', 'portrait', 'want', 'poster', 'event', 'transform', 'copyright', 'work', 'non-copyright', 'work', 'standard', 'review', 'grant', 'summari', 'novo', 'draw', 'reason', 'infer', 'favor', 'non-mov', 'parti', 'soni', 'conced', 'valid', 'harney', 'copyright', 'factual', 'copi', 'three', 'element', 'necessari', 'prove', 'infring', 'work', 'substanti', 'similar', 'becaus', 'soni', 'photograph', 'copi', 'express', 'heart', 'harney', 'photograph', 'harney', 'photograph', 'origin', 'work', 'fulli', 'protect', 'copyright', 'district', 'erron', 'over-dissect', 'harney', 'photograph', 'conclus', 'certif', 'complianc', 'certif', 'servic', 'addenda', 'addendum', 'harney', 'photograph', 'clark']\n",
      "\n",
      "\n"
     ]
    }
   ],
   "source": [
    "#printing the original brief\n",
    "print(\"The original text: \" + df['cleaned_text'][0][:1000])\n",
    "#printing the cleaned text of the original brief\n",
    "print(\"\\nThe filtered text: \") \n",
    "print(df['vocabulary'][0][0:100])\n",
    "print(\"\\n\") "
   ]
  },
  {
   "cell_type": "code",
   "execution_count": 25,
   "id": "a27f34b1-acfa-4201-bce5-245d7f3348eb",
   "metadata": {},
   "outputs": [],
   "source": [
    "#function to calculate the length of each word in the vocabulary text\n",
    "def word_length(text):\n",
    "    return ([len(x) for x in text])"
   ]
  },
  {
   "cell_type": "markdown",
   "id": "a2517a31-111b-40c4-beec-e8b4799b7047",
   "metadata": {},
   "source": [
    "Creating the word length column by calling the associated function"
   ]
  },
  {
   "cell_type": "code",
   "execution_count": 26,
   "id": "331f17c0-d71d-4324-a762-b22cf4fab415",
   "metadata": {},
   "outputs": [],
   "source": [
    "df['word_length'] = df['vocabulary'].apply(word_length)"
   ]
  },
  {
   "cell_type": "markdown",
   "id": "b8ca03cf-9e81-4357-ab5e-137a24cd320f",
   "metadata": {},
   "source": [
    "checking if the word length column has been captured correctly "
   ]
  },
  {
   "cell_type": "code",
   "execution_count": 27,
   "id": "cede7df8-9b1f-4822-b370-76fd2ef8da37",
   "metadata": {},
   "outputs": [
    {
     "data": {
      "text/html": [
       "<div>\n",
       "<style scoped>\n",
       "    .dataframe tbody tr th:only-of-type {\n",
       "        vertical-align: middle;\n",
       "    }\n",
       "\n",
       "    .dataframe tbody tr th {\n",
       "        vertical-align: top;\n",
       "    }\n",
       "\n",
       "    .dataframe thead th {\n",
       "        text-align: right;\n",
       "    }\n",
       "</style>\n",
       "<table border=\"1\" class=\"dataframe\">\n",
       "  <thead>\n",
       "    <tr style=\"text-align: right;\">\n",
       "      <th></th>\n",
       "      <th>Filename</th>\n",
       "      <th>WL</th>\n",
       "      <th>PP</th>\n",
       "      <th>Citation</th>\n",
       "      <th>Text</th>\n",
       "      <th>cleaned_text</th>\n",
       "      <th>word_count</th>\n",
       "      <th>sentence_count</th>\n",
       "      <th>avg_sent_length</th>\n",
       "      <th>vocabulary</th>\n",
       "      <th>word_length</th>\n",
       "    </tr>\n",
       "  </thead>\n",
       "  <tbody>\n",
       "    <tr>\n",
       "      <th>58</th>\n",
       "      <td>brief_10a.txt</td>\n",
       "      <td>0</td>\n",
       "      <td>0</td>\n",
       "      <td>702 F.3d 958</td>\n",
       "      <td>Petitioners' Brief on the Merits Clyde E. M...</td>\n",
       "      <td>Petitioners Brief Merits Clyde Murphy Chicago ...</td>\n",
       "      <td>8097</td>\n",
       "      <td>801</td>\n",
       "      <td>18.511860</td>\n",
       "      <td>[petition, merit, clyde, murphi, chicago, lawy...</td>\n",
       "      <td>[8, 5, 5, 6, 7, 6, 8, 5, 5, 5, 7, 4, 6, 7, 6, ...</td>\n",
       "    </tr>\n",
       "    <tr>\n",
       "      <th>61</th>\n",
       "      <td>brief_10b.txt</td>\n",
       "      <td>1</td>\n",
       "      <td>1</td>\n",
       "      <td>702 F.3d 958</td>\n",
       "      <td>Brief for Respondent Mara S. Georges Corpor...</td>\n",
       "      <td>Brief Respondent Mara Georges Corporation Coun...</td>\n",
       "      <td>8446</td>\n",
       "      <td>1294</td>\n",
       "      <td>12.062597</td>\n",
       "      <td>[respond, mara, georg, corpor, counsel, citi, ...</td>\n",
       "      <td>[7, 4, 5, 6, 7, 4, 7, 5, 4, 7, 6, 6, 7, 6, 7, ...</td>\n",
       "    </tr>\n",
       "    <tr>\n",
       "      <th>53</th>\n",
       "      <td>brief_11a.txt</td>\n",
       "      <td>0</td>\n",
       "      <td>0</td>\n",
       "      <td>702 F.3d 411</td>\n",
       "      <td>Brief and Required Short Appendix of Petiti...</td>\n",
       "      <td>Brief Required Short Appendix Petitioner-Appel...</td>\n",
       "      <td>5679</td>\n",
       "      <td>577</td>\n",
       "      <td>17.563258</td>\n",
       "      <td>[requir, short, appendix, petitioner-appel, ma...</td>\n",
       "      <td>[6, 5, 8, 16, 6, 7, 8, 4, 6, 5, 6, 6, 5, 5, 7,...</td>\n",
       "    </tr>\n",
       "    <tr>\n",
       "      <th>49</th>\n",
       "      <td>brief_11b.txt</td>\n",
       "      <td>1</td>\n",
       "      <td>1</td>\n",
       "      <td>702 F.3d 411</td>\n",
       "      <td>Brief and Appendix of Respondent-Appellee L...</td>\n",
       "      <td>Brief Appendix Respondent-Appellee Lisa Madiga...</td>\n",
       "      <td>6630</td>\n",
       "      <td>696</td>\n",
       "      <td>16.683908</td>\n",
       "      <td>[appendix, respondent-appelle, lisa, madigan, ...</td>\n",
       "      <td>[8, 18, 4, 7, 8, 5, 7, 7, 6, 9, 5, 7, 5, 4, 7,...</td>\n",
       "    </tr>\n",
       "    <tr>\n",
       "      <th>41</th>\n",
       "      <td>brief_12a.txt</td>\n",
       "      <td>1</td>\n",
       "      <td>0</td>\n",
       "      <td>2013 WL 450560</td>\n",
       "      <td>Appellant's Opening Brief Guy D, Loranger, ...</td>\n",
       "      <td>Appellants Opening Brief Loranger Federal Nich...</td>\n",
       "      <td>2341</td>\n",
       "      <td>291</td>\n",
       "      <td>14.718213</td>\n",
       "      <td>[open, lorang, feder, nichol, webb, lorang, ma...</td>\n",
       "      <td>[4, 6, 5, 6, 4, 6, 4, 6, 4, 4, 4, 8, 4, 7, 4, ...</td>\n",
       "    </tr>\n",
       "  </tbody>\n",
       "</table>\n",
       "</div>"
      ],
      "text/plain": [
       "         Filename  WL  PP        Citation  \\\n",
       "58  brief_10a.txt   0   0    702 F.3d 958   \n",
       "61  brief_10b.txt   1   1    702 F.3d 958   \n",
       "53  brief_11a.txt   0   0    702 F.3d 411   \n",
       "49  brief_11b.txt   1   1    702 F.3d 411   \n",
       "41  brief_12a.txt   1   0  2013 WL 450560   \n",
       "\n",
       "                                                 Text  \\\n",
       "58     Petitioners' Brief on the Merits Clyde E. M...   \n",
       "61     Brief for Respondent Mara S. Georges Corpor...   \n",
       "53     Brief and Required Short Appendix of Petiti...   \n",
       "49     Brief and Appendix of Respondent-Appellee L...   \n",
       "41     Appellant's Opening Brief Guy D, Loranger, ...   \n",
       "\n",
       "                                         cleaned_text  word_count  \\\n",
       "58  Petitioners Brief Merits Clyde Murphy Chicago ...        8097   \n",
       "61  Brief Respondent Mara Georges Corporation Coun...        8446   \n",
       "53  Brief Required Short Appendix Petitioner-Appel...        5679   \n",
       "49  Brief Appendix Respondent-Appellee Lisa Madiga...        6630   \n",
       "41  Appellants Opening Brief Loranger Federal Nich...        2341   \n",
       "\n",
       "    sentence_count  avg_sent_length  \\\n",
       "58             801        18.511860   \n",
       "61            1294        12.062597   \n",
       "53             577        17.563258   \n",
       "49             696        16.683908   \n",
       "41             291        14.718213   \n",
       "\n",
       "                                           vocabulary  \\\n",
       "58  [petition, merit, clyde, murphi, chicago, lawy...   \n",
       "61  [respond, mara, georg, corpor, counsel, citi, ...   \n",
       "53  [requir, short, appendix, petitioner-appel, ma...   \n",
       "49  [appendix, respondent-appelle, lisa, madigan, ...   \n",
       "41  [open, lorang, feder, nichol, webb, lorang, ma...   \n",
       "\n",
       "                                          word_length  \n",
       "58  [8, 5, 5, 6, 7, 6, 8, 5, 5, 5, 7, 4, 6, 7, 6, ...  \n",
       "61  [7, 4, 5, 6, 7, 4, 7, 5, 4, 7, 6, 6, 7, 6, 7, ...  \n",
       "53  [6, 5, 8, 16, 6, 7, 8, 4, 6, 5, 6, 6, 5, 5, 7,...  \n",
       "49  [8, 18, 4, 7, 8, 5, 7, 7, 6, 9, 5, 7, 5, 4, 7,...  \n",
       "41  [4, 6, 5, 6, 4, 6, 4, 6, 4, 4, 4, 8, 4, 7, 4, ...  "
      ]
     },
     "execution_count": 27,
     "metadata": {},
     "output_type": "execute_result"
    }
   ],
   "source": [
    "df.head()"
   ]
  },
  {
   "cell_type": "code",
   "execution_count": 28,
   "id": "ab87df2f-6632-4475-8418-88143b5049f9",
   "metadata": {},
   "outputs": [],
   "source": [
    "#function to calculate the average of the word length column \n",
    "def average(leng):\n",
    "    return (sum(leng) / len(leng))"
   ]
  },
  {
   "cell_type": "markdown",
   "id": "3e9027f9-58f3-432e-95b0-e51cc1bc713c",
   "metadata": {},
   "source": [
    "Creating the average word length column by calling the associated function"
   ]
  },
  {
   "cell_type": "code",
   "execution_count": 29,
   "id": "c2a42e8e-6b89-41c5-b5de-42fb5ae5f14b",
   "metadata": {},
   "outputs": [],
   "source": [
    "df['avg_word_length'] = df['word_length'].apply(average)"
   ]
  },
  {
   "cell_type": "markdown",
   "id": "14a87e72-b0b7-4ee6-aaaa-9138bce97080",
   "metadata": {},
   "source": [
    "Checking if the average word length column has been captured correctly "
   ]
  },
  {
   "cell_type": "code",
   "execution_count": 30,
   "id": "41176d15-25dd-4e35-82b4-a93db23d565f",
   "metadata": {},
   "outputs": [
    {
     "data": {
      "text/html": [
       "<div>\n",
       "<style scoped>\n",
       "    .dataframe tbody tr th:only-of-type {\n",
       "        vertical-align: middle;\n",
       "    }\n",
       "\n",
       "    .dataframe tbody tr th {\n",
       "        vertical-align: top;\n",
       "    }\n",
       "\n",
       "    .dataframe thead th {\n",
       "        text-align: right;\n",
       "    }\n",
       "</style>\n",
       "<table border=\"1\" class=\"dataframe\">\n",
       "  <thead>\n",
       "    <tr style=\"text-align: right;\">\n",
       "      <th></th>\n",
       "      <th>Filename</th>\n",
       "      <th>WL</th>\n",
       "      <th>PP</th>\n",
       "      <th>Citation</th>\n",
       "      <th>Text</th>\n",
       "      <th>cleaned_text</th>\n",
       "      <th>word_count</th>\n",
       "      <th>sentence_count</th>\n",
       "      <th>avg_sent_length</th>\n",
       "      <th>vocabulary</th>\n",
       "      <th>word_length</th>\n",
       "      <th>avg_word_length</th>\n",
       "    </tr>\n",
       "  </thead>\n",
       "  <tbody>\n",
       "    <tr>\n",
       "      <th>58</th>\n",
       "      <td>brief_10a.txt</td>\n",
       "      <td>0</td>\n",
       "      <td>0</td>\n",
       "      <td>702 F.3d 958</td>\n",
       "      <td>Petitioners' Brief on the Merits Clyde E. M...</td>\n",
       "      <td>Petitioners Brief Merits Clyde Murphy Chicago ...</td>\n",
       "      <td>8097</td>\n",
       "      <td>801</td>\n",
       "      <td>18.511860</td>\n",
       "      <td>[petition, merit, clyde, murphi, chicago, lawy...</td>\n",
       "      <td>[8, 5, 5, 6, 7, 6, 8, 5, 5, 5, 7, 4, 6, 7, 6, ...</td>\n",
       "      <td>5.894399</td>\n",
       "    </tr>\n",
       "    <tr>\n",
       "      <th>61</th>\n",
       "      <td>brief_10b.txt</td>\n",
       "      <td>1</td>\n",
       "      <td>1</td>\n",
       "      <td>702 F.3d 958</td>\n",
       "      <td>Brief for Respondent Mara S. Georges Corpor...</td>\n",
       "      <td>Brief Respondent Mara Georges Corporation Coun...</td>\n",
       "      <td>8446</td>\n",
       "      <td>1294</td>\n",
       "      <td>12.062597</td>\n",
       "      <td>[respond, mara, georg, corpor, counsel, citi, ...</td>\n",
       "      <td>[7, 4, 5, 6, 7, 4, 7, 5, 4, 7, 6, 6, 7, 6, 7, ...</td>\n",
       "      <td>5.807305</td>\n",
       "    </tr>\n",
       "    <tr>\n",
       "      <th>53</th>\n",
       "      <td>brief_11a.txt</td>\n",
       "      <td>0</td>\n",
       "      <td>0</td>\n",
       "      <td>702 F.3d 411</td>\n",
       "      <td>Brief and Required Short Appendix of Petiti...</td>\n",
       "      <td>Brief Required Short Appendix Petitioner-Appel...</td>\n",
       "      <td>5679</td>\n",
       "      <td>577</td>\n",
       "      <td>17.563258</td>\n",
       "      <td>[requir, short, appendix, petitioner-appel, ma...</td>\n",
       "      <td>[6, 5, 8, 16, 6, 7, 8, 4, 6, 5, 6, 6, 5, 5, 7,...</td>\n",
       "      <td>5.852532</td>\n",
       "    </tr>\n",
       "    <tr>\n",
       "      <th>49</th>\n",
       "      <td>brief_11b.txt</td>\n",
       "      <td>1</td>\n",
       "      <td>1</td>\n",
       "      <td>702 F.3d 411</td>\n",
       "      <td>Brief and Appendix of Respondent-Appellee L...</td>\n",
       "      <td>Brief Appendix Respondent-Appellee Lisa Madiga...</td>\n",
       "      <td>6630</td>\n",
       "      <td>696</td>\n",
       "      <td>16.683908</td>\n",
       "      <td>[appendix, respondent-appelle, lisa, madigan, ...</td>\n",
       "      <td>[8, 18, 4, 7, 8, 5, 7, 7, 6, 9, 5, 7, 5, 4, 7,...</td>\n",
       "      <td>5.943880</td>\n",
       "    </tr>\n",
       "    <tr>\n",
       "      <th>41</th>\n",
       "      <td>brief_12a.txt</td>\n",
       "      <td>1</td>\n",
       "      <td>0</td>\n",
       "      <td>2013 WL 450560</td>\n",
       "      <td>Appellant's Opening Brief Guy D, Loranger, ...</td>\n",
       "      <td>Appellants Opening Brief Loranger Federal Nich...</td>\n",
       "      <td>2341</td>\n",
       "      <td>291</td>\n",
       "      <td>14.718213</td>\n",
       "      <td>[open, lorang, feder, nichol, webb, lorang, ma...</td>\n",
       "      <td>[4, 6, 5, 6, 4, 6, 4, 6, 4, 4, 4, 8, 4, 7, 4, ...</td>\n",
       "      <td>5.774828</td>\n",
       "    </tr>\n",
       "  </tbody>\n",
       "</table>\n",
       "</div>"
      ],
      "text/plain": [
       "         Filename  WL  PP        Citation  \\\n",
       "58  brief_10a.txt   0   0    702 F.3d 958   \n",
       "61  brief_10b.txt   1   1    702 F.3d 958   \n",
       "53  brief_11a.txt   0   0    702 F.3d 411   \n",
       "49  brief_11b.txt   1   1    702 F.3d 411   \n",
       "41  brief_12a.txt   1   0  2013 WL 450560   \n",
       "\n",
       "                                                 Text  \\\n",
       "58     Petitioners' Brief on the Merits Clyde E. M...   \n",
       "61     Brief for Respondent Mara S. Georges Corpor...   \n",
       "53     Brief and Required Short Appendix of Petiti...   \n",
       "49     Brief and Appendix of Respondent-Appellee L...   \n",
       "41     Appellant's Opening Brief Guy D, Loranger, ...   \n",
       "\n",
       "                                         cleaned_text  word_count  \\\n",
       "58  Petitioners Brief Merits Clyde Murphy Chicago ...        8097   \n",
       "61  Brief Respondent Mara Georges Corporation Coun...        8446   \n",
       "53  Brief Required Short Appendix Petitioner-Appel...        5679   \n",
       "49  Brief Appendix Respondent-Appellee Lisa Madiga...        6630   \n",
       "41  Appellants Opening Brief Loranger Federal Nich...        2341   \n",
       "\n",
       "    sentence_count  avg_sent_length  \\\n",
       "58             801        18.511860   \n",
       "61            1294        12.062597   \n",
       "53             577        17.563258   \n",
       "49             696        16.683908   \n",
       "41             291        14.718213   \n",
       "\n",
       "                                           vocabulary  \\\n",
       "58  [petition, merit, clyde, murphi, chicago, lawy...   \n",
       "61  [respond, mara, georg, corpor, counsel, citi, ...   \n",
       "53  [requir, short, appendix, petitioner-appel, ma...   \n",
       "49  [appendix, respondent-appelle, lisa, madigan, ...   \n",
       "41  [open, lorang, feder, nichol, webb, lorang, ma...   \n",
       "\n",
       "                                          word_length  avg_word_length  \n",
       "58  [8, 5, 5, 6, 7, 6, 8, 5, 5, 5, 7, 4, 6, 7, 6, ...         5.894399  \n",
       "61  [7, 4, 5, 6, 7, 4, 7, 5, 4, 7, 6, 6, 7, 6, 7, ...         5.807305  \n",
       "53  [6, 5, 8, 16, 6, 7, 8, 4, 6, 5, 6, 6, 5, 5, 7,...         5.852532  \n",
       "49  [8, 18, 4, 7, 8, 5, 7, 7, 6, 9, 5, 7, 5, 4, 7,...         5.943880  \n",
       "41  [4, 6, 5, 6, 4, 6, 4, 6, 4, 4, 4, 8, 4, 7, 4, ...         5.774828  "
      ]
     },
     "execution_count": 30,
     "metadata": {},
     "output_type": "execute_result"
    }
   ],
   "source": [
    "df.head()"
   ]
  },
  {
   "cell_type": "markdown",
   "id": "3284a73b-cab9-4a5b-b3ab-0fa4681f21b0",
   "metadata": {},
   "source": [
    "One of the tests to assess the vocabulary is to see if the use of certain types of words create a higher chance on winning. As the briefs provided in this dataset are not specific to a field of law, the language to analyse will be generic. It can be modified and made for effective depending on the dataset. \n",
    "Another test which is not part of the code would be to remove proper nouns used in each brief and conduct analysis on the remaining words."
   ]
  },
  {
   "cell_type": "code",
   "execution_count": 31,
   "id": "e4604d4b-0861-4a72-85ad-956e67e96621",
   "metadata": {},
   "outputs": [],
   "source": [
    "#function that measures how 'certain' a text is by looking for specific words \n",
    "def certainty(text):\n",
    "    #types of words implying certainty\n",
    "    certainity_words = set(['obvious', 'certain', 'sure', 'clear', 'evident', 'substanti', 'reasonable', 'standard'])\n",
    "    count = 0\n",
    "    for word in certainity_words: \n",
    "        count += text.count(word) \n",
    "    return count \n",
    "    "
   ]
  },
  {
   "cell_type": "markdown",
   "id": "016fd1fe-48c6-4f04-8d3a-052b292bad99",
   "metadata": {},
   "source": [
    "Creating the certainty count column to count the occurrences of the certainty words in the filtered words (vocabulary) column"
   ]
  },
  {
   "cell_type": "code",
   "execution_count": 32,
   "id": "6ef8b8eb-12c9-46c2-a8ad-d76ba4d8bba5",
   "metadata": {},
   "outputs": [],
   "source": [
    "df['certainty_count'] = df['vocabulary'].apply(certainty)"
   ]
  },
  {
   "cell_type": "markdown",
   "id": "1a63c495-9746-4eb0-aac6-f47c77562cc3",
   "metadata": {},
   "source": [
    "Checking if the certainty count has been captured as desired"
   ]
  },
  {
   "cell_type": "code",
   "execution_count": 33,
   "id": "705944e7-aa36-4cf5-ae15-03dd2b17a17a",
   "metadata": {},
   "outputs": [
    {
     "data": {
      "text/html": [
       "<div>\n",
       "<style scoped>\n",
       "    .dataframe tbody tr th:only-of-type {\n",
       "        vertical-align: middle;\n",
       "    }\n",
       "\n",
       "    .dataframe tbody tr th {\n",
       "        vertical-align: top;\n",
       "    }\n",
       "\n",
       "    .dataframe thead th {\n",
       "        text-align: right;\n",
       "    }\n",
       "</style>\n",
       "<table border=\"1\" class=\"dataframe\">\n",
       "  <thead>\n",
       "    <tr style=\"text-align: right;\">\n",
       "      <th></th>\n",
       "      <th>Filename</th>\n",
       "      <th>WL</th>\n",
       "      <th>PP</th>\n",
       "      <th>Citation</th>\n",
       "      <th>Text</th>\n",
       "      <th>cleaned_text</th>\n",
       "      <th>word_count</th>\n",
       "      <th>sentence_count</th>\n",
       "      <th>avg_sent_length</th>\n",
       "      <th>vocabulary</th>\n",
       "      <th>word_length</th>\n",
       "      <th>avg_word_length</th>\n",
       "      <th>certainty_count</th>\n",
       "    </tr>\n",
       "  </thead>\n",
       "  <tbody>\n",
       "    <tr>\n",
       "      <th>58</th>\n",
       "      <td>brief_10a.txt</td>\n",
       "      <td>0</td>\n",
       "      <td>0</td>\n",
       "      <td>702 F.3d 958</td>\n",
       "      <td>Petitioners' Brief on the Merits Clyde E. M...</td>\n",
       "      <td>Petitioners Brief Merits Clyde Murphy Chicago ...</td>\n",
       "      <td>8097</td>\n",
       "      <td>801</td>\n",
       "      <td>18.511860</td>\n",
       "      <td>[petition, merit, clyde, murphi, chicago, lawy...</td>\n",
       "      <td>[8, 5, 5, 6, 7, 6, 8, 5, 5, 5, 7, 4, 6, 7, 6, ...</td>\n",
       "      <td>5.894399</td>\n",
       "      <td>16</td>\n",
       "    </tr>\n",
       "    <tr>\n",
       "      <th>61</th>\n",
       "      <td>brief_10b.txt</td>\n",
       "      <td>1</td>\n",
       "      <td>1</td>\n",
       "      <td>702 F.3d 958</td>\n",
       "      <td>Brief for Respondent Mara S. Georges Corpor...</td>\n",
       "      <td>Brief Respondent Mara Georges Corporation Coun...</td>\n",
       "      <td>8446</td>\n",
       "      <td>1294</td>\n",
       "      <td>12.062597</td>\n",
       "      <td>[respond, mara, georg, corpor, counsel, citi, ...</td>\n",
       "      <td>[7, 4, 5, 6, 7, 4, 7, 5, 4, 7, 6, 6, 7, 6, 7, ...</td>\n",
       "      <td>5.807305</td>\n",
       "      <td>14</td>\n",
       "    </tr>\n",
       "    <tr>\n",
       "      <th>53</th>\n",
       "      <td>brief_11a.txt</td>\n",
       "      <td>0</td>\n",
       "      <td>0</td>\n",
       "      <td>702 F.3d 411</td>\n",
       "      <td>Brief and Required Short Appendix of Petiti...</td>\n",
       "      <td>Brief Required Short Appendix Petitioner-Appel...</td>\n",
       "      <td>5679</td>\n",
       "      <td>577</td>\n",
       "      <td>17.563258</td>\n",
       "      <td>[requir, short, appendix, petitioner-appel, ma...</td>\n",
       "      <td>[6, 5, 8, 16, 6, 7, 8, 4, 6, 5, 6, 6, 5, 5, 7,...</td>\n",
       "      <td>5.852532</td>\n",
       "      <td>19</td>\n",
       "    </tr>\n",
       "    <tr>\n",
       "      <th>49</th>\n",
       "      <td>brief_11b.txt</td>\n",
       "      <td>1</td>\n",
       "      <td>1</td>\n",
       "      <td>702 F.3d 411</td>\n",
       "      <td>Brief and Appendix of Respondent-Appellee L...</td>\n",
       "      <td>Brief Appendix Respondent-Appellee Lisa Madiga...</td>\n",
       "      <td>6630</td>\n",
       "      <td>696</td>\n",
       "      <td>16.683908</td>\n",
       "      <td>[appendix, respondent-appelle, lisa, madigan, ...</td>\n",
       "      <td>[8, 18, 4, 7, 8, 5, 7, 7, 6, 9, 5, 7, 5, 4, 7,...</td>\n",
       "      <td>5.943880</td>\n",
       "      <td>25</td>\n",
       "    </tr>\n",
       "    <tr>\n",
       "      <th>41</th>\n",
       "      <td>brief_12a.txt</td>\n",
       "      <td>1</td>\n",
       "      <td>0</td>\n",
       "      <td>2013 WL 450560</td>\n",
       "      <td>Appellant's Opening Brief Guy D, Loranger, ...</td>\n",
       "      <td>Appellants Opening Brief Loranger Federal Nich...</td>\n",
       "      <td>2341</td>\n",
       "      <td>291</td>\n",
       "      <td>14.718213</td>\n",
       "      <td>[open, lorang, feder, nichol, webb, lorang, ma...</td>\n",
       "      <td>[4, 6, 5, 6, 4, 6, 4, 6, 4, 4, 4, 8, 4, 7, 4, ...</td>\n",
       "      <td>5.774828</td>\n",
       "      <td>2</td>\n",
       "    </tr>\n",
       "  </tbody>\n",
       "</table>\n",
       "</div>"
      ],
      "text/plain": [
       "         Filename  WL  PP        Citation  \\\n",
       "58  brief_10a.txt   0   0    702 F.3d 958   \n",
       "61  brief_10b.txt   1   1    702 F.3d 958   \n",
       "53  brief_11a.txt   0   0    702 F.3d 411   \n",
       "49  brief_11b.txt   1   1    702 F.3d 411   \n",
       "41  brief_12a.txt   1   0  2013 WL 450560   \n",
       "\n",
       "                                                 Text  \\\n",
       "58     Petitioners' Brief on the Merits Clyde E. M...   \n",
       "61     Brief for Respondent Mara S. Georges Corpor...   \n",
       "53     Brief and Required Short Appendix of Petiti...   \n",
       "49     Brief and Appendix of Respondent-Appellee L...   \n",
       "41     Appellant's Opening Brief Guy D, Loranger, ...   \n",
       "\n",
       "                                         cleaned_text  word_count  \\\n",
       "58  Petitioners Brief Merits Clyde Murphy Chicago ...        8097   \n",
       "61  Brief Respondent Mara Georges Corporation Coun...        8446   \n",
       "53  Brief Required Short Appendix Petitioner-Appel...        5679   \n",
       "49  Brief Appendix Respondent-Appellee Lisa Madiga...        6630   \n",
       "41  Appellants Opening Brief Loranger Federal Nich...        2341   \n",
       "\n",
       "    sentence_count  avg_sent_length  \\\n",
       "58             801        18.511860   \n",
       "61            1294        12.062597   \n",
       "53             577        17.563258   \n",
       "49             696        16.683908   \n",
       "41             291        14.718213   \n",
       "\n",
       "                                           vocabulary  \\\n",
       "58  [petition, merit, clyde, murphi, chicago, lawy...   \n",
       "61  [respond, mara, georg, corpor, counsel, citi, ...   \n",
       "53  [requir, short, appendix, petitioner-appel, ma...   \n",
       "49  [appendix, respondent-appelle, lisa, madigan, ...   \n",
       "41  [open, lorang, feder, nichol, webb, lorang, ma...   \n",
       "\n",
       "                                          word_length  avg_word_length  \\\n",
       "58  [8, 5, 5, 6, 7, 6, 8, 5, 5, 5, 7, 4, 6, 7, 6, ...         5.894399   \n",
       "61  [7, 4, 5, 6, 7, 4, 7, 5, 4, 7, 6, 6, 7, 6, 7, ...         5.807305   \n",
       "53  [6, 5, 8, 16, 6, 7, 8, 4, 6, 5, 6, 6, 5, 5, 7,...         5.852532   \n",
       "49  [8, 18, 4, 7, 8, 5, 7, 7, 6, 9, 5, 7, 5, 4, 7,...         5.943880   \n",
       "41  [4, 6, 5, 6, 4, 6, 4, 6, 4, 4, 4, 8, 4, 7, 4, ...         5.774828   \n",
       "\n",
       "    certainty_count  \n",
       "58               16  \n",
       "61               14  \n",
       "53               19  \n",
       "49               25  \n",
       "41                2  "
      ]
     },
     "execution_count": 33,
     "metadata": {},
     "output_type": "execute_result"
    }
   ],
   "source": [
    "df.head()"
   ]
  },
  {
   "cell_type": "markdown",
   "id": "de3d9167-c422-4a2d-b0d9-3916036eaab7",
   "metadata": {},
   "source": [
    "All the requisite data for analysis has been captured in the dataframe (df), the analysis to find the correlation between all the data points can now be undertaken"
   ]
  },
  {
   "cell_type": "markdown",
   "id": "f7ea8300-28c9-4a16-91a9-6e9657f7c138",
   "metadata": {},
   "source": [
    "\n",
    "### **Analysing the Dataframe**"
   ]
  },
  {
   "cell_type": "markdown",
   "id": "720bb275-184d-4aa1-a57e-d98db5b8c77b",
   "metadata": {},
   "source": [
    "Examining the details of the database to assess the columns which have been created"
   ]
  },
  {
   "cell_type": "code",
   "execution_count": 34,
   "id": "1b41fc24-35db-4a26-881c-63f90987b32d",
   "metadata": {},
   "outputs": [
    {
     "data": {
      "text/html": [
       "<div>\n",
       "<style scoped>\n",
       "    .dataframe tbody tr th:only-of-type {\n",
       "        vertical-align: middle;\n",
       "    }\n",
       "\n",
       "    .dataframe tbody tr th {\n",
       "        vertical-align: top;\n",
       "    }\n",
       "\n",
       "    .dataframe thead th {\n",
       "        text-align: right;\n",
       "    }\n",
       "</style>\n",
       "<table border=\"1\" class=\"dataframe\">\n",
       "  <thead>\n",
       "    <tr style=\"text-align: right;\">\n",
       "      <th></th>\n",
       "      <th>WL</th>\n",
       "      <th>PP</th>\n",
       "      <th>word_count</th>\n",
       "      <th>sentence_count</th>\n",
       "      <th>avg_sent_length</th>\n",
       "      <th>avg_word_length</th>\n",
       "      <th>certainty_count</th>\n",
       "    </tr>\n",
       "  </thead>\n",
       "  <tbody>\n",
       "    <tr>\n",
       "      <th>count</th>\n",
       "      <td>80.000000</td>\n",
       "      <td>80.000000</td>\n",
       "      <td>80.000000</td>\n",
       "      <td>80.000000</td>\n",
       "      <td>80.000000</td>\n",
       "      <td>80.000000</td>\n",
       "      <td>80.000000</td>\n",
       "    </tr>\n",
       "    <tr>\n",
       "      <th>mean</th>\n",
       "      <td>0.512500</td>\n",
       "      <td>0.512500</td>\n",
       "      <td>5080.337500</td>\n",
       "      <td>586.587500</td>\n",
       "      <td>16.523905</td>\n",
       "      <td>5.908223</td>\n",
       "      <td>16.287500</td>\n",
       "    </tr>\n",
       "    <tr>\n",
       "      <th>std</th>\n",
       "      <td>0.502997</td>\n",
       "      <td>0.502997</td>\n",
       "      <td>2437.631897</td>\n",
       "      <td>300.612358</td>\n",
       "      <td>2.985372</td>\n",
       "      <td>0.145314</td>\n",
       "      <td>10.682049</td>\n",
       "    </tr>\n",
       "    <tr>\n",
       "      <th>min</th>\n",
       "      <td>0.000000</td>\n",
       "      <td>0.000000</td>\n",
       "      <td>869.000000</td>\n",
       "      <td>66.000000</td>\n",
       "      <td>9.669127</td>\n",
       "      <td>5.529682</td>\n",
       "      <td>0.000000</td>\n",
       "    </tr>\n",
       "    <tr>\n",
       "      <th>25%</th>\n",
       "      <td>0.000000</td>\n",
       "      <td>0.000000</td>\n",
       "      <td>3362.500000</td>\n",
       "      <td>363.000000</td>\n",
       "      <td>14.589402</td>\n",
       "      <td>5.791925</td>\n",
       "      <td>8.750000</td>\n",
       "    </tr>\n",
       "    <tr>\n",
       "      <th>50%</th>\n",
       "      <td>1.000000</td>\n",
       "      <td>1.000000</td>\n",
       "      <td>4496.000000</td>\n",
       "      <td>567.500000</td>\n",
       "      <td>16.228019</td>\n",
       "      <td>5.898122</td>\n",
       "      <td>14.000000</td>\n",
       "    </tr>\n",
       "    <tr>\n",
       "      <th>75%</th>\n",
       "      <td>1.000000</td>\n",
       "      <td>1.000000</td>\n",
       "      <td>7508.250000</td>\n",
       "      <td>804.000000</td>\n",
       "      <td>17.904401</td>\n",
       "      <td>6.000596</td>\n",
       "      <td>23.000000</td>\n",
       "    </tr>\n",
       "    <tr>\n",
       "      <th>max</th>\n",
       "      <td>1.000000</td>\n",
       "      <td>1.000000</td>\n",
       "      <td>11230.000000</td>\n",
       "      <td>1298.000000</td>\n",
       "      <td>25.293233</td>\n",
       "      <td>6.376623</td>\n",
       "      <td>51.000000</td>\n",
       "    </tr>\n",
       "  </tbody>\n",
       "</table>\n",
       "</div>"
      ],
      "text/plain": [
       "              WL         PP    word_count  sentence_count  avg_sent_length  \\\n",
       "count  80.000000  80.000000     80.000000       80.000000        80.000000   \n",
       "mean    0.512500   0.512500   5080.337500      586.587500        16.523905   \n",
       "std     0.502997   0.502997   2437.631897      300.612358         2.985372   \n",
       "min     0.000000   0.000000    869.000000       66.000000         9.669127   \n",
       "25%     0.000000   0.000000   3362.500000      363.000000        14.589402   \n",
       "50%     1.000000   1.000000   4496.000000      567.500000        16.228019   \n",
       "75%     1.000000   1.000000   7508.250000      804.000000        17.904401   \n",
       "max     1.000000   1.000000  11230.000000     1298.000000        25.293233   \n",
       "\n",
       "       avg_word_length  certainty_count  \n",
       "count        80.000000        80.000000  \n",
       "mean          5.908223        16.287500  \n",
       "std           0.145314        10.682049  \n",
       "min           5.529682         0.000000  \n",
       "25%           5.791925         8.750000  \n",
       "50%           5.898122        14.000000  \n",
       "75%           6.000596        23.000000  \n",
       "max           6.376623        51.000000  "
      ]
     },
     "execution_count": 34,
     "metadata": {},
     "output_type": "execute_result"
    }
   ],
   "source": [
    "df.describe()"
   ]
  },
  {
   "cell_type": "markdown",
   "id": "ab121206-daa2-4533-bac3-a2bdc98a0fe1",
   "metadata": {},
   "source": [
    "From the above data, the average values (through the mean row) as well as the maximum and minimum values for the word count, average sentence length, average word length and the certainty count can be derived.  \n",
    "\n",
    "To determine the correlation between these values and winning or losing brief, the pandas correlation function which uses the pearson method to ascertain the relationship between all the datapoints in the dataframe is used. "
   ]
  },
  {
   "cell_type": "code",
   "execution_count": 35,
   "id": "ff463ef4-479b-4fbe-bc2e-08bb8b995a2d",
   "metadata": {},
   "outputs": [
    {
     "data": {
      "text/html": [
       "<div>\n",
       "<style scoped>\n",
       "    .dataframe tbody tr th:only-of-type {\n",
       "        vertical-align: middle;\n",
       "    }\n",
       "\n",
       "    .dataframe tbody tr th {\n",
       "        vertical-align: top;\n",
       "    }\n",
       "\n",
       "    .dataframe thead th {\n",
       "        text-align: right;\n",
       "    }\n",
       "</style>\n",
       "<table border=\"1\" class=\"dataframe\">\n",
       "  <thead>\n",
       "    <tr style=\"text-align: right;\">\n",
       "      <th></th>\n",
       "      <th>WL</th>\n",
       "      <th>PP</th>\n",
       "      <th>word_count</th>\n",
       "      <th>sentence_count</th>\n",
       "      <th>avg_sent_length</th>\n",
       "      <th>avg_word_length</th>\n",
       "      <th>certainty_count</th>\n",
       "    </tr>\n",
       "  </thead>\n",
       "  <tbody>\n",
       "    <tr>\n",
       "      <th>WL</th>\n",
       "      <td>1.000000</td>\n",
       "      <td>0.549719</td>\n",
       "      <td>0.087578</td>\n",
       "      <td>0.097771</td>\n",
       "      <td>-0.184137</td>\n",
       "      <td>0.229391</td>\n",
       "      <td>0.002857</td>\n",
       "    </tr>\n",
       "    <tr>\n",
       "      <th>PP</th>\n",
       "      <td>0.549719</td>\n",
       "      <td>1.000000</td>\n",
       "      <td>0.075613</td>\n",
       "      <td>0.109324</td>\n",
       "      <td>-0.178796</td>\n",
       "      <td>0.121153</td>\n",
       "      <td>-0.027770</td>\n",
       "    </tr>\n",
       "    <tr>\n",
       "      <th>word_count</th>\n",
       "      <td>0.087578</td>\n",
       "      <td>0.075613</td>\n",
       "      <td>1.000000</td>\n",
       "      <td>0.922791</td>\n",
       "      <td>-0.160656</td>\n",
       "      <td>-0.094795</td>\n",
       "      <td>0.674273</td>\n",
       "    </tr>\n",
       "    <tr>\n",
       "      <th>sentence_count</th>\n",
       "      <td>0.097771</td>\n",
       "      <td>0.109324</td>\n",
       "      <td>0.922791</td>\n",
       "      <td>1.000000</td>\n",
       "      <td>-0.459652</td>\n",
       "      <td>-0.095760</td>\n",
       "      <td>0.542285</td>\n",
       "    </tr>\n",
       "    <tr>\n",
       "      <th>avg_sent_length</th>\n",
       "      <td>-0.184137</td>\n",
       "      <td>-0.178796</td>\n",
       "      <td>-0.160656</td>\n",
       "      <td>-0.459652</td>\n",
       "      <td>1.000000</td>\n",
       "      <td>-0.103433</td>\n",
       "      <td>0.085268</td>\n",
       "    </tr>\n",
       "    <tr>\n",
       "      <th>avg_word_length</th>\n",
       "      <td>0.229391</td>\n",
       "      <td>0.121153</td>\n",
       "      <td>-0.094795</td>\n",
       "      <td>-0.095760</td>\n",
       "      <td>-0.103433</td>\n",
       "      <td>1.000000</td>\n",
       "      <td>-0.039844</td>\n",
       "    </tr>\n",
       "    <tr>\n",
       "      <th>certainty_count</th>\n",
       "      <td>0.002857</td>\n",
       "      <td>-0.027770</td>\n",
       "      <td>0.674273</td>\n",
       "      <td>0.542285</td>\n",
       "      <td>0.085268</td>\n",
       "      <td>-0.039844</td>\n",
       "      <td>1.000000</td>\n",
       "    </tr>\n",
       "  </tbody>\n",
       "</table>\n",
       "</div>"
      ],
      "text/plain": [
       "                       WL        PP  word_count  sentence_count  \\\n",
       "WL               1.000000  0.549719    0.087578        0.097771   \n",
       "PP               0.549719  1.000000    0.075613        0.109324   \n",
       "word_count       0.087578  0.075613    1.000000        0.922791   \n",
       "sentence_count   0.097771  0.109324    0.922791        1.000000   \n",
       "avg_sent_length -0.184137 -0.178796   -0.160656       -0.459652   \n",
       "avg_word_length  0.229391  0.121153   -0.094795       -0.095760   \n",
       "certainty_count  0.002857 -0.027770    0.674273        0.542285   \n",
       "\n",
       "                 avg_sent_length  avg_word_length  certainty_count  \n",
       "WL                     -0.184137         0.229391         0.002857  \n",
       "PP                     -0.178796         0.121153        -0.027770  \n",
       "word_count             -0.160656        -0.094795         0.674273  \n",
       "sentence_count         -0.459652        -0.095760         0.542285  \n",
       "avg_sent_length         1.000000        -0.103433         0.085268  \n",
       "avg_word_length        -0.103433         1.000000        -0.039844  \n",
       "certainty_count         0.085268        -0.039844         1.000000  "
      ]
     },
     "execution_count": 35,
     "metadata": {},
     "output_type": "execute_result"
    }
   ],
   "source": [
    "#using the correlation method\n",
    "df.corr(method ='pearson')"
   ]
  },
  {
   "cell_type": "markdown",
   "id": "91567659-af29-4eb7-b5ee-ede28ff2d147",
   "metadata": {},
   "source": [
    "Before interpreting these values, lets also plot the correlation heat map to visualize these numbers. "
   ]
  },
  {
   "cell_type": "code",
   "execution_count": 36,
   "id": "d986c030-e706-4a54-a7eb-525257635c18",
   "metadata": {},
   "outputs": [
    {
     "data": {
      "text/plain": [
       "<AxesSubplot:>"
      ]
     },
     "execution_count": 36,
     "metadata": {},
     "output_type": "execute_result"
    },
    {
     "data": {
      "image/png": "[encoded data removed]",
      "text/plain": [
       "<Figure size 648x648 with 2 Axes>"
      ]
     },
     "metadata": {},
     "output_type": "display_data"
    }
   ],
   "source": [
    "#creating a copy of the dataframe without the PP value for the visualisation \n",
    "cdf = df[['WL', 'word_count', 'certainty_count', 'sentence_count', 'avg_word_length', 'avg_sent_length']].copy()\n",
    "corrmat = cdf.corr()\n",
    "  \n",
    "f, ax = plt.subplots(figsize =(9, 9))\n",
    "sns.heatmap(corrmat, ax = ax, cmap =\"YlGnBu\", linewidths = 0.1, annot=True)"
   ]
  },
  {
   "cell_type": "markdown",
   "id": "1e65bb4e-bd6b-409d-b128-f79f2244e06d",
   "metadata": {},
   "source": [
    "As per the peasron correlation, 1 is the correlation of the value with itself while 0 will be instances of no correlation. The output dataframe can be interpreted as for any cell, by examining the row variable correlation with the corresponding column variable. \n",
    "Generally a positive or negative value from 0.9 indicates a very strong correlation while data from 0 to 0.3 indicates a negligible correlation. \n",
    "\n",
    "In our dataframe the most significant correlation with winning or losing is with the average word length, however even that is at 0.2 which indicates its on the lower end of the correlation. With the limited dataset it appears that the impact of winning and losing is not affected by the nature of words or their length. With a larger dataset however, there may be chances of finding patterns of stronger correlation. A further variable with variable analysis can be undertaken to ascertain if there is any other correlation which is notable.\n"
   ]
  },
  {
   "cell_type": "markdown",
   "id": "42958c4e-e0ba-4088-b4fd-3677079f1456",
   "metadata": {},
   "source": [
    "### Analysis: Length of Brief"
   ]
  },
  {
   "cell_type": "markdown",
   "id": "f0b769d7-7aa7-47ad-a5f9-73eaa7a3afed",
   "metadata": {},
   "source": [
    "Lets analyse the relationship between the word count and the chance of winning on appeal. This is using a seaborn box plot with with the win/loss variable on the x axis and the word count variable on the y axis with hue as the procedural posture."
   ]
  },
  {
   "cell_type": "code",
   "execution_count": 37,
   "id": "03934578-4957-4ae3-9990-bc5c05d5f96a",
   "metadata": {},
   "outputs": [
    {
     "data": {
      "image/png": "[encoded data removed]",
      "text/plain": [
       "<Figure size 405.725x360 with 1 Axes>"
      ]
     },
     "metadata": {},
     "output_type": "display_data"
    }
   ],
   "source": [
    "sns.catplot(x=\"WL\", y=\"word_count\", hue = 'PP', kind = 'box',   data=df, boxprops=dict(alpha=.5), palette = 'pastel')\n",
    "plt.xlabel('Win(1) / Loss(0)')\n",
    "plt.ylabel('Number of Words')\n",
    "plt.show()"
   ]
  },
  {
   "cell_type": "markdown",
   "id": "6de29f69-37de-4989-9946-0dca99f830c8",
   "metadata": {},
   "source": [
    "We can further calculate the average word count of the briefs of the winning vs. the losing side to see if there is a notable difference. "
   ]
  },
  {
   "cell_type": "code",
   "execution_count": 38,
   "id": "99a7024c-da56-4b57-bc17-92ba3de5e172",
   "metadata": {},
   "outputs": [
    {
     "name": "stdout",
     "output_type": "stream",
     "text": [
      "WL\n",
      "0    4862.820513\n",
      "1    5287.243902\n",
      "Name: word_count, dtype: float64\n"
     ]
    }
   ],
   "source": [
    "print(df.groupby(['WL'])['word_count'].mean())"
   ]
  },
  {
   "cell_type": "markdown",
   "id": "04b35b2f-01ef-4bca-8ebc-e847809db0df",
   "metadata": {},
   "source": [
    "As per the calculations above of the average word count and the box plot of the word count it appears that briefs with slightly higher word counts have a higher chance of winning, however the difference in the average of the two figures is not substantially significant. \n",
    "From the box while there isn't a clear difference between the plots, it does appear that winning briefs start with more words while the total word count does remain similar. \n"
   ]
  },
  {
   "cell_type": "markdown",
   "id": "8251829c-8ea7-4a20-9883-0bccb3a9c2e9",
   "metadata": {},
   "source": [
    "There is a slightly higher chance of winning when the word count of the brief is higher. As is evident from the groupby and the barplot there isn't a major difference in the word count so with the current data set it can't be conclusively stated that the number of substantial words in a brief has a bearing on the chance of winning. \n",
    "\n",
    "In this data set, the box plot shows that brief submitted by the appellants have a higher even with word counts higher than the mean count. It also appears that in the losing side there is a wider spectrum ranging from less than 1000 - 10,000 words while the word count of the winning side is concentrated in the 2000 - 8000 words bracket.\n",
    "\n",
    "\n"
   ]
  },
  {
   "cell_type": "markdown",
   "id": "b8e1dfa1-daaf-4422-ac18-b1ebb4880680",
   "metadata": {},
   "source": [
    "\n",
    "Plotting the bar plot with the same parameters as above now with the average sentence length "
   ]
  },
  {
   "cell_type": "code",
   "execution_count": 39,
   "id": "cd1075e0-721b-4136-a225-28d1d1da42a1",
   "metadata": {},
   "outputs": [
    {
     "data": {
      "image/png": "[encoded data removed]",
      "text/plain": [
       "<Figure size 405.725x360 with 1 Axes>"
      ]
     },
     "metadata": {},
     "output_type": "display_data"
    }
   ],
   "source": [
    "#plotting with disabled jitters, using swarm since this is a small dataset and can display all figures easily\n",
    "sns.catplot(data=df, x='WL', y='avg_sent_length', hue = 'PP', kind = 'swarm')\n",
    "plt.xlabel(\"Win(1) / Loss(0)\")\n",
    "plt.ylabel(\"Length of Sentence\")\n",
    "plt.show()"
   ]
  },
  {
   "cell_type": "markdown",
   "id": "e9fdb5d5-9207-467a-a21a-215481f301c8",
   "metadata": {},
   "source": [
    "Also calculating the mean with the groupby function to see if there is a significant correlation"
   ]
  },
  {
   "cell_type": "code",
   "execution_count": 40,
   "id": "a4111461-a536-4c66-9823-b353759be1d8",
   "metadata": {},
   "outputs": [
    {
     "name": "stdout",
     "output_type": "stream",
     "text": [
      "WL\n",
      "0    17.084008\n",
      "1    15.991124\n",
      "Name: avg_sent_length, dtype: float64\n"
     ]
    }
   ],
   "source": [
    "print(df.groupby(['WL'])['avg_sent_length'].mean())"
   ]
  },
  {
   "cell_type": "markdown",
   "id": "dfe66c49-a313-4998-892b-41a5b2a0b07e",
   "metadata": {
    "tags": []
   },
   "source": [
    "There is a slightly higher chance of winning when the length of the sentences is lesser. However, as was the case with the word count, there isn't a remarkable difference. The swarm plot also shows a similar result as the word count box plot. On the winning side the data is  more concentrated and briefs with smaller sentence lengths have a higher chance of winning. While the difference isn't significant, there appears to be an inverse relationship between the average length of sentences and the chances of winning. \n",
    "\n",
    "Plotting a histplot with the average word length and the win/ loss data"
   ]
  },
  {
   "cell_type": "code",
   "execution_count": 46,
   "id": "bfa83a15-81ee-4dfb-a3a6-2ccebad329cb",
   "metadata": {},
   "outputs": [
    {
     "data": {
      "image/png": "[encoded data removed]",
      "text/plain": [
       "<Figure size 432x288 with 1 Axes>"
      ]
     },
     "metadata": {},
     "output_type": "display_data"
    }
   ],
   "source": [
    "sns.histplot(data = df, x = 'avg_word_length', y = 'WL', multiple=\"dodge\", shrink = 0.5, bins = 5)\n",
    "plt.xlabel('Average Length of Words')\n",
    "plt.ylabel('Win(1) / Loss(0)')\n",
    "plt.show()"
   ]
  },
  {
   "cell_type": "code",
   "execution_count": 42,
   "id": "cfdd5b0c-9a57-47b6-904e-003a463cb923",
   "metadata": {},
   "outputs": [
    {
     "name": "stdout",
     "output_type": "stream",
     "text": [
      "WL\n",
      "0    5.874259\n",
      "1    5.940529\n",
      "Name: avg_word_length, dtype: float64\n"
     ]
    }
   ],
   "source": [
    "print(df.groupby(['WL'])['avg_word_length'].mean())"
   ]
  },
  {
   "cell_type": "markdown",
   "id": "cf208fa8-9240-4566-92a7-8a6a36d47439",
   "metadata": {},
   "source": [
    "As per the plot above, it appears for a slightly longer word average there is a higher win rate. \n",
    "\n",
    "This concludes the analysis for the average length of the brief. With the current data set there isn't a significant co-relation between the average length of the brief and it been drafted by the winning or the losing side. But briefs with a lower word count and lower sentence length have won on appeal more. "
   ]
  },
  {
   "cell_type": "markdown",
   "id": "1d31102a-6bd5-41d1-8e72-75c31cb5b12e",
   "metadata": {},
   "source": [
    "### Analysis: Vocabulary"
   ]
  },
  {
   "cell_type": "markdown",
   "id": "6267a400-d53d-413f-8829-600fe8397742",
   "metadata": {},
   "source": [
    "Now to analyse if the vocabulary used has a bearing on the chances of winning. \n",
    "Plotting a violin plot to assess the relationship between the certainty count and the win/lose data."
   ]
  },
  {
   "cell_type": "code",
   "execution_count": 43,
   "id": "44a11c95-bb7b-4647-b342-aaa70ca002f8",
   "metadata": {},
   "outputs": [
    {
     "data": {
      "image/png": "[encoded data removed]",
      "text/plain": [
       "<Figure size 405.725x360 with 1 Axes>"
      ]
     },
     "metadata": {},
     "output_type": "display_data"
    }
   ],
   "source": [
    "sns.catplot(x=\"WL\", y=\"certainty_count\", hue=\"PP\", data=df, kind=\"violin\", bw=.15, cut=0, split = False, palette=\"Set2\")\n",
    "plt.xlabel(\"Win(1) / Loss(0)\")\n",
    "plt.ylabel(\"Certainty Count\")\n",
    "plt.show()"
   ]
  },
  {
   "cell_type": "code",
   "execution_count": 44,
   "id": "c2da31fe-d7a9-4210-8b16-73ab4b53adc7",
   "metadata": {},
   "outputs": [
    {
     "name": "stdout",
     "output_type": "stream",
     "text": [
      "WL\n",
      "0    16.256410\n",
      "1    16.317073\n",
      "Name: certainty_count, dtype: float64\n"
     ]
    }
   ],
   "source": [
    "print(df.groupby(['WL'])['certainty_count'].mean())"
   ]
  },
  {
   "cell_type": "markdown",
   "id": "5c834e6f-f8aa-4057-894c-332c5ba6d0c3",
   "metadata": {},
   "source": [
    "From this plot it cannot be affirmatively stated that the usage of a specific set of words has a bearing on who wins, this might change if for case briefs in the same subject matter of law where specific words can be included for detailed analysis."
   ]
  },
  {
   "cell_type": "markdown",
   "id": "f1ee1993-92a4-48ff-8551-30e74843bd15",
   "metadata": {},
   "source": [
    "\n",
    "Finally, another method for specifically analysing the vocabulary is to check the frequency distribution of the words in the brief and then compare the usage of the words with other briefs, the below illustration analyses only 2 sample briefs from the dataframe. As the subject matter for the briefs isn't similar there wont be substantial results with a specific analysis of this kind but where the is an overlap in of field this analysis would be significant and helpful once scaled up for larger datasets."
   ]
  },
  {
   "cell_type": "code",
   "execution_count": 47,
   "id": "7dadd35d-f718-4e72-b797-c5c05870c5d1",
   "metadata": {},
   "outputs": [
    {
     "name": "stdout",
     "output_type": "stream",
     "text": [
      "Frequency distribution for brief_39a.txt\n",
      "<FreqDist with 659 samples and 2749 outcomes>\n",
      "Frequency distribution for brief_35b.txt\n",
      "<FreqDist with 851 samples and 4290 outcomes>\n"
     ]
    }
   ],
   "source": [
    "fdist1 = FreqDist((df['vocabulary'][1]))\n",
    "print(\"Frequency distribution for \" + df['Filename'][1])\n",
    "print(fdist1)\n",
    "fdist2 = FreqDist((df['vocabulary'][2]))\n",
    "print(\"Frequency distribution for \" + df['Filename'][2])\n",
    "print(fdist2)"
   ]
  },
  {
   "cell_type": "code",
   "execution_count": 48,
   "id": "73e3fff3-da4c-47b4-897e-e2a8aaef8891",
   "metadata": {},
   "outputs": [
    {
     "name": "stdout",
     "output_type": "stream",
     "text": [
      "[('state', 89), ('associ', 83)]\n",
      "[('burton', 81), ('district', 62)]\n"
     ]
    }
   ],
   "source": [
    "print(fdist1.most_common(2))\n",
    "print(fdist2.most_common(2))"
   ]
  },
  {
   "cell_type": "code",
   "execution_count": 49,
   "id": "a3f0885c-8202-4485-bea1-487976660f5a",
   "metadata": {},
   "outputs": [
    {
     "data": {
      "image/png": "[encoded data removed]",
      "text/plain": [
       "<Figure size 432x288 with 1 Axes>"
      ]
     },
     "metadata": {},
     "output_type": "display_data"
    },
    {
     "data": {
      "image/png": "[encoded data removed]",
      "text/plain": [
       "<Figure size 432x288 with 1 Axes>"
      ]
     },
     "metadata": {},
     "output_type": "display_data"
    },
    {
     "data": {
      "text/plain": [
       "<AxesSubplot:xlabel='Samples', ylabel='Counts'>"
      ]
     },
     "execution_count": 49,
     "metadata": {},
     "output_type": "execute_result"
    }
   ],
   "source": [
    "fdist1.plot(30,cumulative=False)\n",
    "fdist2.plot(30,cumulative=False)"
   ]
  },
  {
   "cell_type": "markdown",
   "id": "61099585-5b15-42ee-a0f3-4c83492cb394",
   "metadata": {},
   "source": [
    "### Summary"
   ]
  },
  {
   "cell_type": "markdown",
   "id": "b64d53c8-9dda-4eb8-a5d9-688d530a6dd8",
   "metadata": {},
   "source": [
    "There was a compressed directory of case briefs provided for analysis which was decompressed and extracted. A csv file was created to store all the briefs in one documents for analysis. Using the metadata that was part of each brief the csv file was updated with each row containing the data from the individual files. The csv file was read in as a pandas dataframe for analysis. From the dataframe, text was cleaned to remove short words and punctuation. \n",
    "Thereon the word count of the text of each brief and the average sentence length was computed. This was later analysed to determine the relationship in the provided dataset of the average length of the brief and chances of winning on appeal. \n",
    "Finally, the vocabulary analysis was conducted, for this each word in the text of the brief was reduced to its stem, then all commonly   appearing stop words and legalese in the brief were removed. The analysis conducted here was to see if the usage of the words that are more persuasive and certain or are used as legal jargon would have a bearing on the chances of winning on appeal. \n"
   ]
  }
 ],
 "metadata": {
  "kernelspec": {
   "display_name": "Python 3",
   "language": "python",
   "name": "python3"
  },
  "language_info": {
   "codemirror_mode": {
    "name": "ipython",
    "version": 3
   },
   "file_extension": ".py",
   "mimetype": "text/x-python",
   "name": "python",
   "nbconvert_exporter": "python",
   "pygments_lexer": "ipython3",
   "version": "3.8.8"
  }
 },
 "nbformat": 4,
 "nbformat_minor": 5
}
